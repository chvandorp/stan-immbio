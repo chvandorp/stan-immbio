{
 "cells": [
  {
   "cell_type": "code",
   "execution_count": null,
   "metadata": {
    "slideshow": {
     "slide_type": "skip"
    }
   },
   "outputs": [],
   "source": [
    "import matplotlib.pyplot as plt\n",
    "import scipy.stats as sts\n",
    "import numpy as np\n",
    "import cmdstanpy ## import stan interface for Python\n",
    "from scipy.integrate import solve_ivp\n",
    "from matplotlib.gridspec import GridSpec\n",
    "import os\n",
    "\n",
    "import sys\n",
    "sys.path.append(\"..\")\n",
    "\n",
    "import stancourse.utilities as util\n",
    "from stancourse import plots\n",
    "\n",
    "if os.name == \"nt\": ## adds compiler to path in Windows\n",
    "    cmdstanpy.utils.cxx_toolchain_path() "
   ]
  },
  {
   "cell_type": "markdown",
   "metadata": {
    "slideshow": {
     "slide_type": "slide"
    }
   },
   "source": [
    "# Advanced Stan Models\n",
    "\n",
    "* Using the ODE integrator\n",
    "* Viral Dynamics model example\n",
    "* Choosing a good initial parameter guess\n",
    "* Multi-threading with `map_rect`\n",
    "* Hierarchical Viral Dynamics model"
   ]
  },
  {
   "cell_type": "markdown",
   "metadata": {
    "slideshow": {
     "slide_type": "slide"
    }
   },
   "source": [
    "## ODEs in Stan\n",
    "\n",
    "Consider the initial value problem with $x \\in \\mathbb{R}^n$, parameter vector $\\theta \\in \\mathbb{R}^k$ and data $D$.\n",
    "\n",
    "\\begin{equation}\n",
    "\\dot{x} = F(t, x, \\theta)\\,,\\quad x(t_0) = x_0(\\theta)\n",
    "\\end{equation}\n",
    "\n",
    "ODE integrators in Stan\n",
    "\n",
    "```cpp\n",
    "vector[n] sol[N] = ode_rk45(ode_sys, x0, t0, ts, ...);\n",
    "```\n",
    "where the arguments are given by\n",
    "```cpp\n",
    "vector ode_sys(t, x, ...) { // defined in functions block\n",
    "    real dydt[num_elements(x)];\n",
    "    /* implement F */\n",
    "    return dydt;\n",
    "}\n",
    "vector[n] x0; // initial state\n",
    "real t0; // initial time\n",
    "real ts[N]; // save state at these times\n",
    "```\n",
    "* higher-order function (in the sense that one of the arguments is itself a function)\n",
    "* variadic function (in the sense that we can pass an arbitrary number of parameters)"
   ]
  },
  {
   "cell_type": "markdown",
   "metadata": {
    "slideshow": {
     "slide_type": "slide"
    }
   },
   "source": [
    "## ODEs in Stan\n",
    "\n",
    "* Runge-Kutta 4-5 (`ode_rk45`): RK with adaptive step-size control, Fast for non-stiff ODEs\n",
    "* Backwards Differentiation Formula (`ode_bdf`): Slower but works for stiff systems\n",
    "* Cash-Karp (`ode_ckrk`) *should perform better for systems that exhibit rapidly varying solutions*\n",
    "\n",
    "**How on earth can Stan do automatic differentiation with ODE models??**\n",
    "\n",
    "Let $x$ denote the solution of our IVP. For each observation time $t$, we need the gradients \n",
    "\\begin{equation}\n",
    "g_{ij}(t) = \\frac{\\partial [x_i(t)]}{\\partial \\theta_j}\\, \\quad i = 1,\\dots, n \\quad j = 1,\\dots,k\n",
    "\\end{equation}\n",
    "These can be solved by augmenting the system of ODEs with $n\\times k$ equations.\n",
    "\\begin{equation}\n",
    "\\frac{d g_{ij}}{dt} = \\frac{\\partial \\dot{x}_i}{\\partial \\theta_j}\\,, \\quad\n",
    "\\frac{d g_{ij}}{dt}(t_0) = \\frac{\\partial x_{0,i}}{\\partial \\theta_j}\n",
    "\\quad i = 1,\\dots, n \\quad j = 1,\\dots,k\n",
    "\\end{equation}\n",
    "\n",
    "**So this means that for an ODE with $n$ equations and $k$ parameters, Stan integrates a system of $n + k\\times n$ ODEs**\n",
    "\n",
    "Recent addition to Stan: **adjoint solver** (`ode_adjoint_tol_ctl`), only requires integration of $n + k$ ODEs, but has needs more fine-tuning and has more overhead"
   ]
  },
  {
   "cell_type": "markdown",
   "metadata": {
    "slideshow": {
     "slide_type": "slide"
    }
   },
   "source": [
    "## Simple ODE model in Stan\n",
    "\n",
    "Consider the \"standard\" viral dynamic model\n",
    "\n",
    "\\begin{equation}\n",
    "\\begin{split}\n",
    " \\frac{dT}{dt} &= \\lambda - d_T T - \\beta VT /T_0 \\\\\n",
    " \\frac{dI}{dt} &= \\beta VT /T_0 - \\delta I \\\\\n",
    " \\frac{dV}{dt} &= p I - c V\n",
    "\\end{split}\n",
    "\\end{equation}\n",
    "\n",
    "Reduce to 2D system of equations using QSSA $V = p/c I$."
   ]
  },
  {
   "cell_type": "markdown",
   "metadata": {
    "slideshow": {
     "slide_type": "slide"
    }
   },
   "source": [
    "### Generate some data\n",
    "\\begin{equation}\n",
    " {\\rm VL_n} \\sim {\\rm Lognormal}(\\log(V(t_n)), \\sigma)\n",
    "\\end{equation}"
   ]
  },
  {
   "cell_type": "code",
   "execution_count": null,
   "metadata": {
    "slideshow": {
     "slide_type": "skip"
    }
   },
   "outputs": [],
   "source": [
    "T0 = 1e6\n",
    "d_T = 0.05\n",
    "d_I = 0.5\n",
    "beta = 1.7\n",
    "lam = T0 * d_T\n",
    "I0 = 1\n",
    "sigma = 0.5\n",
    "\n",
    "def vd_ode(t, y, T0, d_T, d_I, beta, lam):\n",
    "    T, I = y\n",
    "    return np.array([\n",
    "        lam - d_T * T - beta * T * I / T0, \n",
    "        beta * T * I / T0 - d_I * I\n",
    "    ])\n",
    "\n",
    "def gen_vd_data(params, N, tmax, lod=None):\n",
    "    T0, d_T, d_I, beta, lam, I0, sigma = params\n",
    "    t_span = (0, tmax)\n",
    "    ObsTime = np.linspace(tmax/N, tmax, N)\n",
    "    y0 = [T0, I0]\n",
    "    sol = solve_ivp(lambda t, y: vd_ode(t, y, T0, d_T, d_I, beta, lam),\n",
    "                    t_span, y0, dense_output=True, t_eval=ObsTime)\n",
    "    Ihat = sol.y[1]\n",
    "    VL = sts.lognorm.rvs(scale=Ihat, s=sigma)\n",
    "    if lod is None:\n",
    "        CC = [0 for _ in VL]\n",
    "    else:\n",
    "        CC = [1 if x < lod else 0 for x in VL]\n",
    "        VL = [lod if x < lod else x for x in VL]\n",
    "    return ObsTime, Ihat, VL, CC, sol\n",
    "\n",
    "N = 20\n",
    "tmax = 50\n",
    "\n",
    "params = (T0, d_T, d_I, beta, lam, I0, sigma)\n",
    "\n",
    "ObsTime, Ihat, VL, CC, sol = gen_vd_data(params, N, tmax)\n",
    "\n",
    "fig, axs = plt.subplots(2, 1, figsize=(7,5), sharex=True)\n",
    "ts = np.linspace(0, tmax, 1000)\n",
    "labs = [\"$T$\", \"$I$\"]\n",
    "for i in range(2):\n",
    "    axs[0].plot(ts, sol.sol(ts)[i], label=labs[i])\n",
    "#axs[0].set_yscale('log')\n",
    "axs[0].legend(loc=1)\n",
    "\n",
    "axs[1].plot(ObsTime, VL, color='k')\n",
    "axs[1].scatter(ObsTime, VL, color='k', label=\"VL data\")\n",
    "#axs[1].set_yscale('log')\n",
    "axs[1].legend(loc=1)\n",
    "axs[1].set_xlabel(\"time post infection\")"
   ]
  },
  {
   "cell_type": "code",
   "execution_count": null,
   "metadata": {
    "slideshow": {
     "slide_type": "-"
    }
   },
   "outputs": [],
   "source": [
    "fig ## show simulation and data"
   ]
  },
  {
   "cell_type": "code",
   "execution_count": null,
   "metadata": {
    "slideshow": {
     "slide_type": "slide"
    }
   },
   "outputs": [],
   "source": [
    "util.show_stan_model(\"../stan-models/vd_model.stan\", lines=(1,15))"
   ]
  },
  {
   "cell_type": "code",
   "execution_count": null,
   "metadata": {
    "slideshow": {
     "slide_type": "subslide"
    }
   },
   "outputs": [],
   "source": [
    "util.show_stan_model(\"../stan-models/vd_model.stan\", lines=(15,30))"
   ]
  },
  {
   "cell_type": "code",
   "execution_count": null,
   "metadata": {
    "slideshow": {
     "slide_type": "subslide"
    }
   },
   "outputs": [],
   "source": [
    "util.show_stan_model(\"../stan-models/vd_model.stan\", lines=(31,None))"
   ]
  },
  {
   "cell_type": "markdown",
   "metadata": {
    "slideshow": {
     "slide_type": "slide"
    }
   },
   "source": [
    "### Compile and fit model"
   ]
  },
  {
   "cell_type": "code",
   "execution_count": null,
   "metadata": {
    "slideshow": {
     "slide_type": "-"
    }
   },
   "outputs": [],
   "source": [
    "%%time\n",
    "\n",
    "sm = cmdstanpy.CmdStanModel(stan_file=\"../stan-models/vd_model.stan\")\n",
    "\n",
    "data = {\n",
    "    \"N\" : N,\n",
    "    \"ObsTime\" : ObsTime,\n",
    "    \"VL\" : VL,\n",
    "    \"T0\" : T0\n",
    "}\n",
    "\n",
    "sam = sm.sample(\n",
    "    data=data, \n",
    "    chains=1\n",
    ")"
   ]
  },
  {
   "cell_type": "markdown",
   "metadata": {
    "slideshow": {
     "slide_type": "slide"
    }
   },
   "source": [
    "### Fitted model trajectories and data, parameter estimates"
   ]
  },
  {
   "cell_type": "code",
   "execution_count": null,
   "metadata": {
    "slideshow": {
     "slide_type": "skip"
    }
   },
   "outputs": [],
   "source": [
    "yhat = sam.stan_variable(\"yhat\")\n",
    "\n",
    "fig, ax = plt.subplots(1, 1, figsize=(5,3))\n",
    "\n",
    "mI = np.median(yhat[:,:,1], axis=0)\n",
    "lI, uI = np.percentile(yhat[:,:,1], axis=0, q=[2.5, 97.5])\n",
    "\n",
    "ax.plot(ObsTime, mI)\n",
    "ax.fill_between(ObsTime, lI, uI, alpha=0.4)\n",
    "ax.scatter(ObsTime, VL, color='k')\n",
    "ax.set_yscale('log')"
   ]
  },
  {
   "cell_type": "code",
   "execution_count": null,
   "metadata": {},
   "outputs": [],
   "source": [
    "fig ## show model fit"
   ]
  },
  {
   "cell_type": "code",
   "execution_count": null,
   "metadata": {
    "slideshow": {
     "slide_type": "skip"
    }
   },
   "outputs": [],
   "source": [
    "fig, ax = plt.subplots(1, 1, figsize=(5,3))\n",
    "\n",
    "parnames = [\"beta\", \"d_T\", \"d_I\", \"I0\", \"sigma\"]\n",
    "pretty_parnames = [\"$\\\\beta$\", \"$d_T$\", \"$d_I$\", \"$I_0$\", \"$\\\\sigma$\"]\n",
    "parvals = [beta, d_T, d_I, I0, sigma]\n",
    "parests = [sam.stan_variable(pn) for pn in parnames]\n",
    "ax.violinplot(parests, showextrema=False)\n",
    "pos = range(1,len(parnames)+1)\n",
    "ax.scatter(pos, parvals, color='k', s=5)\n",
    "ax.set_xticks(pos)\n",
    "ax.set_xticklabels(pretty_parnames)\n",
    "ax.set_ylim(0,4)"
   ]
  },
  {
   "cell_type": "code",
   "execution_count": null,
   "metadata": {},
   "outputs": [],
   "source": [
    "fig ## show parameter estimates"
   ]
  },
  {
   "cell_type": "markdown",
   "metadata": {
    "slideshow": {
     "slide_type": "slide"
    }
   },
   "source": [
    "## Exercise\n",
    "\n",
    "Viral load has a limit of detection (usually 200 or 50 copies per mL), therefore some viral load measurements are left-censored (i.e. the reported value is an upper bound of the actual value). \n",
    "\n",
    "Suppose that in addition to the viral load data `VL` we also have censoring information. The array `CC` contains censoring codes where a `0` means \"uncensored\" and a `1` means left-censored. Open the Stan model `vd-model.stan` in the `stan-models` directory and modify the code to account for censored data.\n",
    "\n",
    "*Hint: make use of the `lognormal_lcdf` function.*"
   ]
  },
  {
   "cell_type": "markdown",
   "metadata": {
    "slideshow": {
     "slide_type": "slide"
    }
   },
   "source": [
    "## Initial guesses: predator-prey model example\n",
    "\n",
    "Lotka-Volterra predator-prey model\n",
    "\n",
    "\\begin{equation}\n",
    "\\frac{dx}{dt} = a x - b xy \\,,\\quad\n",
    "\\frac{dy}{dt} = cb xy - d y \n",
    "\\end{equation}\n",
    "With initial conditions $x(t_0) = x_0$ and $y(t_0) = y_0$.\n",
    "\n",
    "Observations ($K$ is a constant determining the sampling volume)\n",
    "\\begin{equation}\n",
    " X_i \\sim {\\rm Poisson}(K x(t_i)) \\,,\\quad\n",
    " Y_i \\sim {\\rm Poisson}(K y(t_i))\\,,\\quad i = 1,\\dots, N\n",
    "\\end{equation}"
   ]
  },
  {
   "cell_type": "code",
   "execution_count": null,
   "metadata": {
    "slideshow": {
     "slide_type": "skip"
    }
   },
   "outputs": [],
   "source": [
    "def lv_sys(t, u, a, b, c, d):\n",
    "    x, y = u\n",
    "    dx = a*x - b*x*y\n",
    "    dy = c*b*x*y - d*y\n",
    "    return np.array([dx, dy])\n",
    "\n",
    "N = 30\n",
    "t0 = 0\n",
    "tmax = 30\n",
    "t_span = (0, tmax)\n",
    "ObsTime = np.linspace(tmax/N, tmax, N)\n",
    "u0 = np.array([1, 1])\n",
    "a, b, c, d = 1, 0.4, 0.4, 0.5\n",
    "sol = solve_ivp(lambda t, u: lv_sys(t, u, a, b, c, d), t_span, u0, \n",
    "                t_eval=ObsTime, dense_output=True, rtol=1e-6, atol=1e-6)\n",
    "\n",
    "K = 10\n",
    "PreyObs = [sts.poisson.rvs(K*y) for y in sol.y[0]]\n",
    "PredObs = [sts.poisson.rvs(K*y) for y in sol.y[1]]\n",
    "\n",
    "Nsim = 100\n",
    "SimTime = np.linspace(tmax/Nsim, tmax, Nsim)\n",
    "\n",
    "fig, axs = plt.subplots(2, 1, figsize=(7,4), sharex=True)\n",
    "\n",
    "ts = np.linspace(*t_span, 1000)\n",
    "\n",
    "axs[0].plot(ts, sol.sol(ts)[0], label=\"prey\")\n",
    "axs[0].plot(ts, sol.sol(ts)[1], label=\"predator\")\n",
    "axs[0].set_ylabel(\"concentration\")\n",
    "\n",
    "axs[0].legend()\n",
    "\n",
    "axs[1].scatter(ObsTime, PreyObs, label=\"prey\")\n",
    "axs[1].scatter(ObsTime, PredObs, label=\"predator\")\n",
    "\n",
    "axs[1].legend()\n",
    "axs[1].set_ylabel(\"samples\")"
   ]
  },
  {
   "cell_type": "code",
   "execution_count": null,
   "metadata": {},
   "outputs": [],
   "source": [
    "fig ## predator-prey trajectories and data"
   ]
  },
  {
   "cell_type": "code",
   "execution_count": null,
   "metadata": {
    "slideshow": {
     "slide_type": "slide"
    }
   },
   "outputs": [],
   "source": [
    "util.show_stan_model(\"../stan-models/lotka.stan\", lines=(1,19))"
   ]
  },
  {
   "cell_type": "code",
   "execution_count": null,
   "metadata": {
    "slideshow": {
     "slide_type": "subslide"
    }
   },
   "outputs": [],
   "source": [
    "util.show_stan_model(\"../stan-models/lotka.stan\", lines=(20,None))"
   ]
  },
  {
   "cell_type": "code",
   "execution_count": null,
   "metadata": {
    "slideshow": {
     "slide_type": "slide"
    }
   },
   "outputs": [],
   "source": [
    "data_dict = {\n",
    "    \"N\" : N, \n",
    "    \"Prey\" : PreyObs, \"Predator\" : PredObs,\n",
    "    \"t0\" : t0, \"ObsTime\" : ObsTime,\n",
    "    \"K\" : K,\n",
    "    \"Nsim\" : Nsim, \"SimTime\" : SimTime\n",
    "}\n",
    "## try sampling a couple of times and check the fit\n",
    "sm = cmdstanpy.CmdStanModel(stan_file=\"../stan-models/lotka.stan\")\n",
    "sam = sm.sample(chains=1, data=data_dict, show_progress=True, refresh=5)"
   ]
  },
  {
   "cell_type": "code",
   "execution_count": null,
   "metadata": {
    "slideshow": {
     "slide_type": "skip"
    }
   },
   "outputs": [],
   "source": [
    "def plot_lv_fit(sam):\n",
    "    fig = plt.figure(figsize=(9,4))\n",
    "    gs = GridSpec(2,5)\n",
    "    ax1 = fig.add_subplot(gs[0, :4])\n",
    "    ax2 = fig.add_subplot(gs[1, :4], sharex=ax1)\n",
    "    \n",
    "    chain = sam.stan_variables()\n",
    "    uhat = chain[\"uhat\"]\n",
    "    xhat = uhat[:, :, 0]\n",
    "    yhat = uhat[:, :, 1]\n",
    "    \n",
    "    q = [2.5, 97.5]\n",
    "\n",
    "    ax1.plot(SimTime, np.mean(xhat, axis=0), label=\"prey\")\n",
    "    ax1.plot(SimTime, np.mean(yhat, axis=0), label=\"predator\")\n",
    "    \n",
    "    ax1.fill_between(SimTime, *np.percentile(xhat, axis=0, q=q), \n",
    "                        color='tab:blue', alpha=0.3)\n",
    "    ax1.fill_between(SimTime, *np.percentile(yhat, axis=0, q=q), \n",
    "                        color='tab:orange', alpha=0.3)\n",
    "\n",
    "    \n",
    "    ax1.set_ylabel(\"concentration\")\n",
    "\n",
    "    ax1.legend()\n",
    "\n",
    "    ax2.scatter(ObsTime, PreyObs, label=\"prey\")\n",
    "    ax2.scatter(ObsTime, PredObs, label=\"predator\")\n",
    "\n",
    "    PreySim = chain[\"PreySim\"]\n",
    "    PredatorSim = chain[\"PredatorSim\"]\n",
    "\n",
    "    ax2.plot(SimTime, np.mean(PreySim, axis=0))\n",
    "    ax2.plot(SimTime, np.mean(PredatorSim, axis=0))\n",
    "\n",
    "    ax2.fill_between(SimTime, *np.percentile(PreySim, axis=0, q=q), \n",
    "                        color='tab:blue', alpha=0.3)\n",
    "    ax2.fill_between(SimTime, *np.percentile(PredatorSim, axis=0, q=q), \n",
    "                        color='tab:orange', alpha=0.3)\n",
    "\n",
    "    ax2.legend()\n",
    "    ax2.set_ylabel(\"samples\")\n",
    "    \n",
    "    bx1 = fig.add_subplot(gs[0,4])\n",
    "    bx2 = fig.add_subplot(gs[1,4])\n",
    "    \n",
    "    bx1.violinplot(chain[\"u0\"])\n",
    "    bx1.set_xticks([1,2])\n",
    "    bx1.set_xticklabels([\"$x_0$\", \"$x_1$\"])\n",
    "    bx1.scatter([1,2], u0, color='k')\n",
    "    \n",
    "    parnames = [\"a\", \"b\", \"c\", \"d\"]\n",
    "    parests = [chain[pn] for pn in parnames]\n",
    "    bx2.violinplot(parests)\n",
    "    bx2.scatter([1,2,3,4], [a,b,c,d], color='k')\n",
    "    bx2.set_xticks([1,2,3,4])\n",
    "    bx2.set_xticklabels(parnames)\n",
    "    \n",
    "    fig.tight_layout()\n",
    "    return fig"
   ]
  },
  {
   "cell_type": "code",
   "execution_count": null,
   "metadata": {
    "slideshow": {
     "slide_type": "-"
    }
   },
   "outputs": [],
   "source": [
    "fig = plot_lv_fit(sam)"
   ]
  },
  {
   "cell_type": "markdown",
   "metadata": {},
   "source": [
    "**choose a good initial guess**"
   ]
  },
  {
   "cell_type": "code",
   "execution_count": null,
   "metadata": {
    "slideshow": {
     "slide_type": "slide"
    }
   },
   "outputs": [],
   "source": [
    "init_dict = {\n",
    "    \"u0\" : u0,\n",
    "    \"a\" : a,\n",
    "    \"b\" : b,\n",
    "    \"c\" : c,\n",
    "    \"d\" : d\n",
    "}\n",
    "\n",
    "sam2 = sm.sample(chains=1, data=data_dict, inits=init_dict, show_progress=True, refresh=5)"
   ]
  },
  {
   "cell_type": "code",
   "execution_count": null,
   "metadata": {},
   "outputs": [],
   "source": [
    "fig = plot_lv_fit(sam2)"
   ]
  },
  {
   "cell_type": "markdown",
   "metadata": {
    "slideshow": {
     "slide_type": "subslide"
    }
   },
   "source": [
    "**test initial guess by running with with fixed parameters**"
   ]
  },
  {
   "cell_type": "code",
   "execution_count": null,
   "metadata": {},
   "outputs": [],
   "source": [
    "init_dict = {\n",
    "    \"u0\" : [0.5,2],\n",
    "    \"a\" : 2,\n",
    "    \"b\" : 0.3,\n",
    "    \"c\" : 0.9,\n",
    "    \"d\" : 0.3\n",
    "}\n",
    "sam3 = sm.sample(chains=1, data=data_dict, inits=init_dict, fixed_param=True)\n",
    "fig = plot_lv_fit(sam3)"
   ]
  },
  {
   "cell_type": "markdown",
   "metadata": {
    "slideshow": {
     "slide_type": "slide"
    }
   },
   "source": [
    "## Solving problems with ODE models\n",
    "\n",
    "* In the warmup phase, Stan can quickly walk away from you carefully chosen initial guess. Avoid this by reducing the initial step size ($\\epsilon$) of the HMC leapfrog algorithm\n",
    "`sam = sm.sampling(step_size=0.01, ...)`\n",
    "\n",
    "* Some (unlikely) parts of the parameter space may lead to **stiff ODEs**. If you're using an explicit solver (e.g. `ode_rk45`), this will lead to an extremely small integration step. Either use `ode_bdf` (implicit solver) or try to restict the parameter space by choosing more informative priors.\n",
    "\n",
    "* Try to avoid ODE models with time-discontinuities in the vector field $f$. Suppose we have a discontinuity at time $t_1$ Solution 1: call the integrator twice. Solution 2: replace step functions with smooth approximations $H_u(t) = (1 + e^{u(t-t_1)})^{-1}$ (converges to Heaviside function as $u\\rightarrow \\infty$)\n",
    "\n",
    "Solution 1:\n",
    "```cpp\n",
    "vector[n] sol1[N1] = ode_rk45(ode_sys, u0, t0, ts1...);\n",
    "vector[n] u1 = sol1[N];\n",
    "vector[n] sol2[N1] = ode_rk45(ode_sys, u1, t1, ts2...);\n",
    "```\n"
   ]
  },
  {
   "cell_type": "markdown",
   "metadata": {
    "slideshow": {
     "slide_type": "slide"
    }
   },
   "source": [
    "## Multi-threading with `map_rect`\n",
    "\n",
    "* Models with multiple independent computationally intensive computations\n",
    "* Example: ODE models with $R$ repeated experiments\n",
    "\n",
    "Higher-order function `map_rect` can be used to distribute computations over multiple CPU cores.\n",
    "Syntax:\n",
    "```cpp\n",
    "vector[M] xs = map_rect(fun, pop_par_vec, unit_par_vecs, data_reals, data_ints);\n",
    "```\n",
    "Where the arguments have the following types\n",
    "```cpp\n",
    "vector fun(pop_par, unit_par, data_real, data_int) { /* function body */ }\n",
    "vector[k] pop_par_vec; // shared parameters\n",
    "vector[l] unit_par_vecs[R]; // unit-specific parameter vectors\n",
    "real data_reals[R,m]; // real data\n",
    "real data_ints[R,n]; // integer data\n",
    "```\n",
    "**`map_rect` returns a concatenated vector with all results**. Each individual vector therefore can have a different length."
   ]
  },
  {
   "cell_type": "markdown",
   "metadata": {
    "slideshow": {
     "slide_type": "slide"
    }
   },
   "source": [
    "## Panel VL data\n",
    "\n",
    "Suppose we now have multiple ($R$) viral load timeseries, and we want to fit the viral dynamics model defined above.\n",
    "There are slight differences between individual parameters, so we want to fit a hierarchical model (cf. NLME). For instance for the parameters $\\beta_r$ we assume a shared prior\n",
    "\\begin{equation}\n",
    "\\beta_r \\sim {\\rm LogNormal}(m_{\\beta}, s_{\\beta})\\,, \\quad r = 1,\\dots, R\n",
    "\\end{equation}\n",
    "And we also estimate the population-level parameters $m_{\\beta}, s_{\\beta}$"
   ]
  },
  {
   "cell_type": "code",
   "execution_count": null,
   "metadata": {
    "slideshow": {
     "slide_type": "skip"
    }
   },
   "outputs": [],
   "source": [
    "def gen_vd_params(d_I, d_T, beta, I0, s):\n",
    "    d_I_ran = d_I * sts.lognorm.rvs(s=s)\n",
    "    d_T_ran = d_T * sts.lognorm.rvs(s=s)\n",
    "    beta_ran = beta * sts.lognorm.rvs(s=s)\n",
    "    I0_ran = I0 * sts.lognorm.rvs(s=s)\n",
    "    return (d_I_ran, d_T_ran, beta_ran, I0_ran)\n",
    "\n",
    "T0_pop = 1e6\n",
    "d_T_pop = 0.05\n",
    "d_I_pop = 0.5\n",
    "beta_pop = 1.7\n",
    "lam_pop = T0_pop * d_T_pop\n",
    "I0_pop = 0.1\n",
    "sigma = 0.5\n",
    "    \n",
    "R = 12\n",
    "VLs = []\n",
    "ObsTimes = []\n",
    "for r in range(R):\n",
    "    N = 20\n",
    "    tmax = 50\n",
    "    d_I, d_T, beta, I0 = gen_vd_params(d_I_pop, d_T_pop, beta_pop, I0_pop, 0.2)\n",
    "    params = (T0_pop, d_T, d_I, beta, d_T*T0_pop, I0, sigma)\n",
    "    ObsTime, Ihat, VL, CC, sol = gen_vd_data(params, N, tmax)\n",
    "    ObsTimes.append(ObsTime)\n",
    "    VLs.append(VL)\n",
    "\n",
    "nrows = 3\n",
    "fig, axs = plt.subplots(nrows, R//nrows, figsize=(10,4), sharex=True, sharey=True)\n",
    "\n",
    "for i, ax in enumerate(axs.flatten()):\n",
    "    t = ObsTimes[i]\n",
    "    VL = VLs[i]\n",
    "    ax.plot(t, VL, marker='o', markersize=3)\n",
    "    ax.set_yscale('log')\n",
    "    \n",
    "fig.tight_layout()\n",
    "fig.text(0, 0.5, \"Viral Load\", rotation=90, va='center')\n",
    "fig.text(0.5, 0, \"days post infection\", ha='center')"
   ]
  },
  {
   "cell_type": "code",
   "execution_count": null,
   "metadata": {},
   "outputs": [],
   "source": [
    "fig ## VL panel data"
   ]
  },
  {
   "cell_type": "code",
   "execution_count": null,
   "metadata": {
    "slideshow": {
     "slide_type": "slide"
    }
   },
   "outputs": [],
   "source": [
    "util.show_stan_model(\"../stan-models/vd_model_panel.stan\", lines=(1,14))"
   ]
  },
  {
   "cell_type": "code",
   "execution_count": null,
   "metadata": {
    "slideshow": {
     "slide_type": "subslide"
    }
   },
   "outputs": [],
   "source": [
    "util.show_stan_model(\"../stan-models/vd_model_panel.stan\", lines=(15,30))\n",
    "\n",
    "## functions block (continued)"
   ]
  },
  {
   "cell_type": "code",
   "execution_count": null,
   "metadata": {
    "slideshow": {
     "slide_type": "subslide"
    }
   },
   "outputs": [],
   "source": [
    "util.show_stan_model(\"../stan-models/vd_model_panel.stan\", lines=(31,44))"
   ]
  },
  {
   "cell_type": "code",
   "execution_count": null,
   "metadata": {
    "slideshow": {
     "slide_type": "subslide"
    }
   },
   "outputs": [],
   "source": [
    "util.show_stan_model(\"../stan-models/vd_model_panel.stan\", lines=(45,70))"
   ]
  },
  {
   "cell_type": "code",
   "execution_count": null,
   "metadata": {
    "slideshow": {
     "slide_type": "subslide"
    }
   },
   "outputs": [],
   "source": [
    "util.show_stan_model(\"../stan-models/vd_model_panel.stan\", lines=(71,87))"
   ]
  },
  {
   "cell_type": "code",
   "execution_count": null,
   "metadata": {
    "slideshow": {
     "slide_type": "subslide"
    }
   },
   "outputs": [],
   "source": [
    "util.show_stan_model(\"../stan-models/vd_model_panel.stan\", lines=(88,None))"
   ]
  },
  {
   "cell_type": "code",
   "execution_count": null,
   "metadata": {
    "slideshow": {
     "slide_type": "slide"
    }
   },
   "outputs": [],
   "source": [
    "## compile model\n",
    "sm = cmdstanpy.CmdStanModel(\n",
    "    stan_file=\"../stan-models/vd_model_panel.stan\",\n",
    "    cpp_options={\"STAN_THREADS\": True}    \n",
    ")\n",
    "\n",
    "## prepare data\n",
    "data_dict = {\n",
    "    \"R\" : R,\n",
    "    \"N\" : [len(VL) for VL in VLs],\n",
    "    \"VL\" : np.array(VLs), ## no padding required\n",
    "    \"ObsTime\" : np.array(ObsTimes), ## no padding required here\n",
    "    \"T0\" : T0\n",
    "}\n",
    "\n",
    "## choose reasonable initial values\n",
    "init_dict = {\n",
    "    \"beta\" : beta_pop * np.ones(R),\n",
    "    \"d_I\" : d_I_pop * np.ones(R),\n",
    "    \"d_T\" : d_T_pop * np.ones(R),\n",
    "    \"I0\" : I0_pop * np.ones(R),\n",
    "}\n",
    "\n",
    "## fit model\n",
    "sam = sm.sample(\n",
    "    data=data_dict, inits=init_dict, iter_warmup=1000, iter_sampling=1000,\n",
    "    chains=1, output_dir=\"../stan-cache/\",\n",
    "    show_progress=True, refresh=1,\n",
    "    threads_per_chain=4\n",
    ")"
   ]
  },
  {
   "cell_type": "code",
   "execution_count": null,
   "metadata": {
    "slideshow": {
     "slide_type": "skip"
    }
   },
   "outputs": [],
   "source": [
    "nrows = 3\n",
    "fig, axs = plt.subplots(nrows, R//nrows, figsize=(10,5), sharex=True, sharey=True)\n",
    "\n",
    "VLhat = sam.stan_variable(\"VLhat\")\n",
    "\n",
    "for i, ax in enumerate(axs.flatten()):\n",
    "    ## plot data\n",
    "    t = ObsTimes[i]\n",
    "    VL = VLs[i]\n",
    "    ax.scatter(t, VL, color='k', s=5)\n",
    "    ax.set_yscale('log')\n",
    "    ## plot fit\n",
    "    lV, mV, uV = np.percentile(VLhat[:,i,:], axis=0, q=[2.5, 50, 97.5])\n",
    "    ax.plot(t, mV)\n",
    "    ax.fill_between(t, lV, uV, alpha=0.4, color='tab:blue')\n",
    "    \n",
    "fig.tight_layout()\n",
    "fig.text(0, 0.5, \"Viral Load\", rotation=90, va='center')\n",
    "fig.text(0.5, 0, \"days post infection\", ha='center')"
   ]
  },
  {
   "cell_type": "code",
   "execution_count": null,
   "metadata": {
    "slideshow": {
     "slide_type": "slide"
    }
   },
   "outputs": [],
   "source": [
    "fig ## show individual fits to panel data"
   ]
  },
  {
   "cell_type": "markdown",
   "metadata": {
    "slideshow": {
     "slide_type": "slide"
    }
   },
   "source": [
    "**parameter estimates** and posterior predictive distributions"
   ]
  },
  {
   "cell_type": "code",
   "execution_count": null,
   "metadata": {
    "slideshow": {
     "slide_type": "skip"
    }
   },
   "outputs": [],
   "source": [
    "parnames = [\"beta\", \"d_T\", \"d_I\", \"I0\"]\n",
    "parvals = [beta_pop, d_T_pop, d_I_pop, I0_pop]\n",
    "\n",
    "fig, axs = plt.subplots(4, 4, figsize=(10,5))\n",
    "\n",
    "xlims = [[1,4], [0.01, 0.1], [0.3, 0.8], [0, 0.3]]\n",
    "\n",
    "for i, pn in enumerate(parnames):\n",
    "    m = sam.stan_variable(\"m_\" + pn)\n",
    "    s = sam.stan_variable(\"s_\" + pn)\n",
    "    ppd = sam.stan_variable(\"ppd_\" + pn)\n",
    "    plots.density(axs[0,i], np.exp(m))\n",
    "    plots.density(axs[2,i], ppd, color='tab:red')\n",
    "    plots.density(axs[3,i], s, color='tab:orange')\n",
    "    for r in range(R):\n",
    "        p = sam.stan_variable(pn)[:,r]\n",
    "        plots.density(axs[1,i], p, alpha=0.4)\n",
    "    axs[0,i].set_xlim(*xlims[i])\n",
    "    axs[1,i].set_xlim(*xlims[i])\n",
    "    axs[2,i].set_xlim(*xlims[i])\n",
    "    axs[3,i].set_xlim(0, 1)\n",
    "    axs[0,i].axvline(x=parvals[i], color='k')\n",
    "    axs[3,i].axvline(x=0.2, color='k')\n",
    "    axs[0,i].set_title(pn)\n",
    "    \n",
    "axs[0,0].set_ylabel(\"pop mean\")\n",
    "axs[1,0].set_ylabel(\"units\")\n",
    "axs[2,0].set_ylabel(\"ppd\")\n",
    "axs[3,0].set_ylabel(\"std\")\n",
    "fig.tight_layout()\n",
    "fig.align_ylabels()"
   ]
  },
  {
   "cell_type": "code",
   "execution_count": null,
   "metadata": {},
   "outputs": [],
   "source": [
    "fig ## show parameter estimates"
   ]
  },
  {
   "cell_type": "markdown",
   "metadata": {
    "slideshow": {
     "slide_type": "slide"
    }
   },
   "source": [
    "## Further reading\n",
    "\n",
    "**Choice of Priors**\n",
    "Prior recommendations by the Stan team can be found [here](https://github.com/stan-dev/stan/wiki/Prior-Choice-Recommendations). This is in general not an easy task.\n",
    "\n",
    "**The Bayesian Workflow**\n",
    "How do we build a model, iteratively improve it, validate it etc. Read [this paper](https://arxiv.org/pdf/2011.01808.pdf) for developing good strategies.\n",
    "\n",
    "**Fitting ODE models with Stan**\n",
    "A [tutorial](https://mc-stan.org/users/documentation/case-studies/planetary_motion/planetary_motion.html) explaing problems with ODEs in Stan and possible solutions. Bayesian workflow applied to [epidemic models](https://arxiv.org/pdf/2006.02985.pdf)\n",
    "\n",
    "**[Thurston](https://metrumresearchgroup.github.io/Torsten/)** is an extension of Stan for PK/PD modeling with Stan."
   ]
  }
 ],
 "metadata": {
  "celltoolbar": "Slideshow",
  "kernelspec": {
   "display_name": "Python 3",
   "language": "python",
   "name": "python3"
  },
  "language_info": {
   "codemirror_mode": {
    "name": "ipython",
    "version": 3
   },
   "file_extension": ".py",
   "mimetype": "text/x-python",
   "name": "python",
   "nbconvert_exporter": "python",
   "pygments_lexer": "ipython3",
   "version": "3.8.10"
  }
 },
 "nbformat": 4,
 "nbformat_minor": 4
}
