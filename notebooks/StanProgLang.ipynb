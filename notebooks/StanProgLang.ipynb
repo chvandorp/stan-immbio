{
 "cells": [
  {
   "cell_type": "code",
   "execution_count": null,
   "metadata": {
    "slideshow": {
     "slide_type": "skip"
    }
   },
   "outputs": [],
   "source": [
    "import matplotlib.pyplot as plt\n",
    "import scipy.stats as sts\n",
    "import numpy as np\n",
    "import os\n",
    "\n",
    "import sys\n",
    "sys.path.append(\"..\")\n",
    "\n",
    "import stancourse.utilities as util\n",
    "\n",
    "if os.name == \"nt\": ## adds compiler to path in Windows\n",
    "    cmdstanpy.utils.cxx_toolchain_path() "
   ]
  },
  {
   "cell_type": "markdown",
   "metadata": {
    "slideshow": {
     "slide_type": "slide"
    }
   },
   "source": [
    "# The Stan Programming Language\n",
    "\n",
    "* Hello World\n",
    "* Basic blocks\n",
    "* Special blocks\n",
    "* Variables\n",
    "* Functions\n",
    "* Quirks"
   ]
  },
  {
   "cell_type": "markdown",
   "metadata": {
    "slideshow": {
     "slide_type": "slide"
    }
   },
   "source": [
    "# Hello World\n",
    "\n",
    "Example: a very simple Stan model"
   ]
  },
  {
   "cell_type": "code",
   "execution_count": null,
   "metadata": {},
   "outputs": [],
   "source": [
    "util.show_stan_model(\"../stan-models/hello_world.stan\")"
   ]
  },
  {
   "cell_type": "markdown",
   "metadata": {
    "slideshow": {
     "slide_type": "-"
    }
   },
   "source": [
    "* Code is divided into **blocks**\n",
    "* `parameters` block: declaration of free parameters\n",
    "* `model` block: defines the (un-normalized) posterior likelihood $Q(x|D)$\n",
    "* variables are **strongly typed** (like C/C++, unlike R, Python)\n",
    "* Statements must end with a semi-colon (;)"
   ]
  },
  {
   "cell_type": "code",
   "execution_count": null,
   "metadata": {
    "slideshow": {
     "slide_type": "skip"
    }
   },
   "outputs": [],
   "source": [
    "def hello_world_plot(xs):\n",
    "    fig, axs = plt.subplots(2, 1, figsize=(7,5))\n",
    "    axs[0].plot(xs, color='k')\n",
    "    axs[0].set_ylabel(\"$x$\")\n",
    "    axs[0].set_xlabel(\"iteration\")\n",
    "    axs[1].hist(xs, density=True, bins=50, label=\"sample\")\n",
    "    xs = np.linspace(-3,3, 1000)\n",
    "    axs[1].plot(xs, sts.norm.pdf(xs), linewidth=3, label=\"PDF\")\n",
    "    axs[1].legend()\n",
    "    axs[1].set_xlabel(\"$x$\")\n",
    "    axs[1].set_ylabel(\"density\")\n",
    "    fig.tight_layout()"
   ]
  },
  {
   "cell_type": "code",
   "execution_count": null,
   "metadata": {
    "slideshow": {
     "slide_type": "subslide"
    }
   },
   "outputs": [],
   "source": [
    "import cmdstanpy ## import stan interface for Python\n",
    "if os.name == \"nt\": ## adds compiler to path in Windows\n",
    "    cmdstanpy.utils.cxx_toolchain_path() \n",
    "## compile the stan model\n",
    "sm = cmdstanpy.CmdStanModel(stan_file=\"../stan-models/hello_world.stan\")\n",
    "sam = sm.sample(chains=1) ## sample \n",
    "xs = sam.stan_variable(\"x\") ## extract \"trace\"\n",
    "hello_world_plot(xs) ## plot result"
   ]
  },
  {
   "cell_type": "markdown",
   "metadata": {
    "slideshow": {
     "slide_type": "slide"
    }
   },
   "source": [
    "## Basic Blocks\n",
    "\n",
    "**Data block**: Declare model input (data, constants, settings)"
   ]
  },
  {
   "cell_type": "code",
   "execution_count": null,
   "metadata": {},
   "outputs": [],
   "source": [
    "util.show_stan_model(\"../stan-models/data_block.stan\")"
   ]
  },
  {
   "cell_type": "code",
   "execution_count": null,
   "metadata": {
    "slideshow": {
     "slide_type": "subslide"
    }
   },
   "outputs": [],
   "source": [
    "sm = cmdstanpy.CmdStanModel(stan_file=\"../stan-models/data_block.stan\")\n",
    "\n",
    "N = 100\n",
    "sigma = 1\n",
    "mu_gt = 0.5\n",
    "\n",
    "data = {\n",
    "    \"N\" : N,\n",
    "    \"X\" : sts.norm.rvs(loc=mu_gt, scale=sigma, size=N),\n",
    "    \"sigma\" : sigma\n",
    "}\n",
    "\n",
    "sam = sm.sample(data=data, chains=1)\n",
    "\n",
    "mu = sam.stan_variable(\"mu\")\n",
    "m, l, u = np.mean(mu), *np.percentile(mu, [2.5, 97.5])\n",
    "print(f\"E[mu] = {m:0.2f}, 95% CrI: [{l:0.2f},{u:0.2f}]\")"
   ]
  },
  {
   "cell_type": "markdown",
   "metadata": {
    "slideshow": {
     "slide_type": "slide"
    }
   },
   "source": [
    "## Basic Blocks\n",
    "\n",
    "**Parameters block:** Declare free parameters\n",
    "\n",
    "* We can specify initial values for the parameters. \n",
    "* Otherwise chosen at random in interval $[-2,2]$"
   ]
  },
  {
   "cell_type": "code",
   "execution_count": null,
   "metadata": {
    "slideshow": {
     "slide_type": "-"
    }
   },
   "outputs": [],
   "source": [
    "util.show_stan_model(\"../stan-models/hello_world.stan\")"
   ]
  },
  {
   "cell_type": "code",
   "execution_count": null,
   "metadata": {
    "slideshow": {
     "slide_type": "subslide"
    }
   },
   "outputs": [],
   "source": [
    "sm = cmdstanpy.CmdStanModel(stan_file=\"../stan-models/hello_world.stan\")\n",
    "\n",
    "init_params = {\n",
    "    \"x\" : 10.0\n",
    "}\n",
    "\n",
    "sam = sm.sample(inits=init_params, chains=1)\n",
    "\n",
    "x = sam.stan_variable(\"x\")\n",
    "m, l, u = np.mean(x), *np.percentile(x, [2.5, 97.5])\n",
    "print(f\"E[x] = {m:0.2f}, 95% CrI: [{l:0.2f},{u:0.2f}]\")"
   ]
  },
  {
   "cell_type": "markdown",
   "metadata": {
    "slideshow": {
     "slide_type": "slide"
    }
   },
   "source": [
    "## Basic Blocks\n",
    "\n",
    "**Model block:** Define the log-posterior density (up-to a constant)"
   ]
  },
  {
   "cell_type": "code",
   "execution_count": null,
   "metadata": {},
   "outputs": [],
   "source": [
    "util.show_stan_model(\"../stan-models/model_block.stan\")"
   ]
  },
  {
   "cell_type": "markdown",
   "metadata": {
    "slideshow": {
     "slide_type": "slide"
    }
   },
   "source": [
    "## Special Blocks\n",
    "\n",
    "**transformed data:** pre-process the data, define constants. Block is executed only once prior to sampling."
   ]
  },
  {
   "cell_type": "code",
   "execution_count": null,
   "metadata": {},
   "outputs": [],
   "source": [
    "util.show_stan_model(\"../stan-models/transformed_data_block.stan\")"
   ]
  },
  {
   "cell_type": "markdown",
   "metadata": {
    "slideshow": {
     "slide_type": "slide"
    }
   },
   "source": [
    "## Special Blocks\n",
    "\n",
    "**transformed parameters:** compute compound parameters. Keeps tedious computations out of the model block,\n",
    "Transformed parameters are saved to Stan output files"
   ]
  },
  {
   "cell_type": "code",
   "execution_count": null,
   "metadata": {},
   "outputs": [],
   "source": [
    "util.show_stan_model(\"../stan-models/transformed_parameters_block.stan\")"
   ]
  },
  {
   "cell_type": "code",
   "execution_count": null,
   "metadata": {
    "slideshow": {
     "slide_type": "skip"
    }
   },
   "outputs": [],
   "source": [
    "def trans_params_block_fig(chain):\n",
    "    fig, axs = plt.subplots(1,2, figsize=(7,3))\n",
    "    axs[0].scatter(chain[\"beta\"], chain[\"gamma\"], s=1)\n",
    "    axs[0].set_xlabel(\"$\\\\beta$\"); axs[0].set_ylabel(\"$\\\\gamma$\")\n",
    "    axs[1].hist(chain[\"R0\"], bins=50)\n",
    "    axs[1].set_xlabel(\"$R_0$\")"
   ]
  },
  {
   "cell_type": "code",
   "execution_count": null,
   "metadata": {
    "slideshow": {
     "slide_type": "subslide"
    }
   },
   "outputs": [],
   "source": [
    "N = 100\n",
    "data = {\n",
    "    \"N\" : N,\n",
    "    \"SndInfections\" : sts.poisson.rvs(1.2, size=N)\n",
    "}\n",
    "\n",
    "sm = cmdstanpy.CmdStanModel(stan_file=\"../stan-models/transformed_parameters_block.stan\")\n",
    "sam = sm.sample(chains=1, data=data)\n",
    "chain = sam.stan_variables() ## get dictionary with ALL variables\n",
    "trans_params_block_fig(chain) ## make figure to show samples"
   ]
  },
  {
   "cell_type": "markdown",
   "metadata": {
    "slideshow": {
     "slide_type": "slide"
    }
   },
   "source": [
    "## Special Blocks\n",
    "**generated quantities block** additional output. Executed only once per sample. Only place where we can use RNGs"
   ]
  },
  {
   "cell_type": "code",
   "execution_count": null,
   "metadata": {},
   "outputs": [],
   "source": [
    "util.show_stan_model(\"../stan-models/generated_quantities_block.stan\")"
   ]
  },
  {
   "cell_type": "code",
   "execution_count": null,
   "metadata": {
    "slideshow": {
     "slide_type": "subslide"
    }
   },
   "outputs": [],
   "source": [
    "sm = cmdstanpy.CmdStanModel(stan_file=\"../stan-models/generated_quantities_block.stan\")\n",
    "sam = sm.sample(chains=1)\n",
    "fig, ax = plt.subplots(1,1, figsize=(7,3))\n",
    "\n",
    "ks = np.linspace(0, 10, 11, dtype=int)\n",
    "ax.hist(sam.stan_variable(\"k\"), bins=ks, density=True, \n",
    "        width=0.4, label=\"Stan sample\")\n",
    "ax.bar(ks+0.7, sts.nbinom.pmf(ks, 1, 0.5), width=0.4, \n",
    "       color='tab:orange', label=\"Negative Binomial PMF\")\n",
    "ax.legend()"
   ]
  },
  {
   "cell_type": "markdown",
   "metadata": {
    "slideshow": {
     "slide_type": "slide"
    }
   },
   "source": [
    "## Special Blocks\n",
    "**functions block:** user-defined functions (custom PDFs, system of ODEs, etc)"
   ]
  },
  {
   "cell_type": "code",
   "execution_count": null,
   "metadata": {},
   "outputs": [],
   "source": [
    "util.show_stan_model(\"../stan-models/functions_block.stan\")"
   ]
  },
  {
   "cell_type": "markdown",
   "metadata": {
    "slideshow": {
     "slide_type": "slide"
    }
   },
   "source": [
    "## Variables\n",
    "\n",
    "Apart from `int` and `real`, Stan lets us use the following types\n",
    "```cpp\n",
    "vector[n] v; // real vector of length n\n",
    "matrix[n,m] A; // n x m real matrix\n",
    "simplex[n] s; // n-dimensional (real) simplex\n",
    "```\n",
    "\\begin{equation}\n",
    "s_1 + s_2 + \\cdots + s_n = 1\\,,\\quad 0 < s_i < 1\n",
    "\\end{equation}\n",
    "```cpp\n",
    "ordered[n] x; // sorted vector\n",
    "positive_ordered[n] y; // positive, sorted vector\n",
    "```\n",
    "\\begin{equation}\n",
    "x_1 < x_2 < \\cdots < x_n\\,,\\quad 0 < y_1 < y_2 < \\cdots < y_n\n",
    "\\end{equation}\n",
    "```\n",
    "cov_matrix[n] Sigma; // Covariance matrix (positive definite, symmetric)\n",
    "```\n",
    "and other special Linear Algebra related types."
   ]
  },
  {
   "cell_type": "markdown",
   "metadata": {
    "slideshow": {
     "slide_type": "subslide"
    }
   },
   "source": [
    "We can add upper and lower bounds to variables\n",
    "```cpp\n",
    "real<lower=0> x; // x is positive\n",
    "real<lower=0, upper=1> y; // 0 < y < 1 (excludes bounds)\n",
    "int<lower=0, upper=10> n; // for integers, bounds are included\n",
    "vector<lower=0>[n] v; // each element is positive\n",
    "```\n",
    "Stan's HMC requires unbounded variables, so bounds are implemented with $\\log$ and ${\\rm logit}$ transforms.\n",
    "Let $x'$ and $y'$ be unbounded variables, then\n",
    "\\begin{equation}\n",
    "x = \\exp(x') \\,,\\quad y = \\frac{1}{1 + \\exp(-y')}\n",
    "\\end{equation}"
   ]
  },
  {
   "cell_type": "markdown",
   "metadata": {
    "slideshow": {
     "slide_type": "subslide"
    }
   },
   "source": [
    "We can make **$n$-dimensional arrays** from all types\n",
    "\n",
    "```cpp\n",
    "vector[n] vs[m]; // array of m vectors, each of length n\n",
    "real A[n,m,k]; // n x m x k array of reals\n",
    "matrix[n,m] M[k,l]; // 2d array of n x m matrices\n",
    "```\n",
    "Indexing is as follows\n",
    "```cpp\n",
    "vector[n] v; // vector with n elments\n",
    "v[1]; // first element of v (indexing starts at 1)\n",
    "vector[3] u = v[1:3]; // multi-indexing, we can omit the \"1\": v[:3]\n",
    "vector[n-3] w = v[4:]; // w contains the final n-3 elements of v\n",
    "\n",
    "matrix[n,m] M; // n x m matrix\n",
    "matrix K[4, 4] = M[4:7, 2:5]; // select block of M\n",
    "```\n",
    "We can use integer arrays for multi-indexing\n",
    "```cpp\n",
    "int idxs[3] = {1,3,7}; // array of indices\n",
    "vector[n] u; // vector with n elements\n",
    "vector[3] z = u[idxs]; // z = [u[1], u[3], u[7]]'\n",
    "```\n"
   ]
  },
  {
   "cell_type": "markdown",
   "metadata": {
    "slideshow": {
     "slide_type": "slide"
    }
   },
   "source": [
    "## Functions\n",
    "\n",
    "**probability density functions**\n",
    "Real argument. Argument and parameters separated by pipe `|`, log-scale\n",
    "```cpp\n",
    "real x = normal_lpdf(0.1 | 0.0, 1.0); // standard normal distribution\n",
    "real y = weibull_lpdf(0.2 | 1.5, 3.2); // Weibull distribution\n",
    "```\n",
    "**probability mass functions**\n",
    "integer argument\n",
    "```cpp\n",
    "real z = binomial_lpmf(10 | 25, 0.1); // binomial distribution\n",
    "```\n",
    "**(complementary) cumulative density function**\n",
    "\\begin{equation}\n",
    "{\\rm CDF}_f(x) = \\int_{-\\infty}^x f(y)dy\\,,\\quad {\\rm CCDF}_f(x) = \\int_{x}^{\\infty} f(y)dy\n",
    "\\end{equation}\n",
    "again, on the log scale\n",
    "```cpp\n",
    "real a = normal_lcdf(0 | 0, 1); // z = log(0.5)\n",
    "real b = student_t_lccdf(-1 | 3, 0, 1); // Student t-distribution\n",
    "```\n",
    "CDF and CCDF are useful for left and right censored data"
   ]
  },
  {
   "cell_type": "markdown",
   "metadata": {
    "slideshow": {
     "slide_type": "subslide"
    }
   },
   "source": [
    "**Random number generators**\n",
    "\n",
    "* pre-defined distributions is Stan have associated random number generators (RNGs)\n",
    "* RNGs can only be used in the `generated quantities` block.\n",
    "```cpp\n",
    "real x = exponential_rng(2.0); // x ~ Exponential(2.0)\n",
    "int b = bernoulli_rng(0.5); // b = 1 with probability 1/2, else 0\n",
    "```"
   ]
  },
  {
   "cell_type": "markdown",
   "metadata": {
    "slideshow": {
     "slide_type": "subslide"
    }
   },
   "source": [
    "## Functions\n",
    "\n",
    "**mathematical functions**\n",
    "\n",
    "Stan has lots of built-in mathematical and special functions\n",
    "```\n",
    "exp, log, sin, cos, logit, tgamma, beta, lambert_w0, ...\n",
    "```\n",
    "Many are \"vectorized\", e.g.\n",
    "```cpp\n",
    "real x[3] = {1,2,3}; // x is an array\n",
    "real y[3] = exp(x); // also works for vectors x\n",
    "```\n",
    "\n",
    "**compound functions**\n",
    "* Stan defines a number of compound functions that are equivalent to simple user-defined expressions\n",
    "* Use these compund functions for better numerical stability\n",
    "* Especially useful for keeping values on the log-scale\n",
    "```cpp\n",
    "log_sum_exp(x,y) == log(exp(x) + exp(y));\n",
    "log_sum_exp(v) == log(sum(exp(v))); // v is a vector\n",
    "log1m_exp(x) == log(1 - exp(x));\n",
    "log1p(x) == log(1+x); // important when x is small\n",
    "log_mix(p, x, y) == log(p * exp(x) + (1-p) * exp(y)); // mixture models\n",
    "```"
   ]
  },
  {
   "cell_type": "markdown",
   "metadata": {
    "slideshow": {
     "slide_type": "subslide"
    }
   },
   "source": [
    "## Functions\n",
    "\n",
    "**manipulating arrays, vectors and matrices**\n",
    "\n",
    "* appending rows to matrices (and simularly columns)\n",
    "```cpp\n",
    "matrix[n, m] A = rep_matrix(1.0, n, m); // n x m matrix filled with 1s\n",
    "row_vector[m] v = rep_vector(0.0, m); // vector with m 0s\n",
    "matrix[n+1, m] B = append_row(A, v);\n",
    "```\n",
    "* We have to manually convert between arrays and vectors\n",
    "```cpp\n",
    "functions {\n",
    "    real my_function(real[] x) {\n",
    "        return x[1];\n",
    "    }\n",
    "}\n",
    "model {\n",
    "    vector[n] x;\n",
    "    real z = my_function(to_array_1d(x));\n",
    "}\n",
    "```"
   ]
  },
  {
   "cell_type": "markdown",
   "metadata": {
    "slideshow": {
     "slide_type": "subslide"
    }
   },
   "source": [
    "## Functions\n",
    "\n",
    "**linear algebra**\n",
    "\n",
    "Addition of vectors and matrices is component wise\n",
    "```cpp\n",
    "vector[n] v;\n",
    "vector[n] w;\n",
    "/* ... */\n",
    "vector[n] u = v + w;\n",
    "```\n",
    "Multiplication is matrix-multiplication\n",
    "```cpp\n",
    "matrix[n,m] A;\n",
    "matrix[m,k] B;\n",
    "/* ... */\n",
    "matrix[n,k] C = A * B;\n",
    "```\n",
    "Use `.*` for component-wise multiplication (cf MATLAB, Julia)\n",
    "```cpp\n",
    "vector[n] v;\n",
    "vector[n] w;\n",
    "vector[n] u = v .* w;\n",
    "vector[n] x = v * w; // ERROR!!! x should be a row_vector\n",
    "```"
   ]
  },
  {
   "cell_type": "markdown",
   "metadata": {
    "slideshow": {
     "slide_type": "slide"
    }
   },
   "source": [
    "## Control flow\n",
    "\n",
    "**for-loops**\n",
    "```cpp\n",
    "for ( i in 1:N ) { // i does not need a type\n",
    "    /* ... */\n",
    "}\n",
    "```\n",
    "**if-else**\n",
    "\n",
    "```cpp\n",
    "if ( C[i] == 0 ) {\n",
    "    X[i] ~ normal(mu, sigma);\n",
    "} else if ( C[i] == 1 ) {\n",
    "    X[i] ~ cauchy(mu, sigma);\n",
    "} else {\n",
    "    X[i] ~ double_exponential(mu, sigma);\n",
    "}\n",
    "```\n"
   ]
  },
  {
   "cell_type": "markdown",
   "metadata": {
    "slideshow": {
     "slide_type": "slide"
    }
   },
   "source": [
    "## Exercise\n",
    "\n",
    "Let $E_1, E_2, \\dots, E_n$ be independent, exponentially distributed random variables with rates $a_1, a_2,\\dots, a_n$ respectively. The sum $X = E_1 + E_2 + \\cdots + E_n$ has a so-called *hypoexponential* distribution. A special case is the Erlang distribution, in which case $a_1 = a_2 = \\cdots = a_n$. Stan does not provide the hypoexponential distribution, and so we have to implement this ourselves. On [wikipedia](https://en.wikipedia.org/wiki/Hypoexponential_distribution), we find that the PDF of $X$ is given by \n",
    "\n",
    "\\begin{equation}\n",
    " f_X(t) = - \\alpha \\exp(t Q) Q 1\n",
    "\\end{equation}\n",
    "where $\\alpha = (1, 0, 0, \\dots, 0) \\in \\mathbb{R}^n$ is a row vector, and $1$ is a vector of $n$ ones $(1, 1, \\dots, 1)^T \\in \\mathbb{R}^n$. The matrix $Q$ is given by\n",
    "\\begin{equation}\n",
    " Q = \\left(\\begin{array}{ccccc}\n",
    " -a_1 & a_1 & 0 & \\cdots & 0\\\\\n",
    " 0 & -a_2 & a_2 & \\cdots & 0 \\\\\n",
    " \\vdots & \\ddots & \\ddots & \\ddots & \\vdots \\\\\n",
    " 0 & \\cdots & 0 & -a_{n-1} & a_{n-1} \\\\\n",
    " 0 & \\cdots & 0 & 0 & -a_n\n",
    " \\end{array}\\right)\n",
    "\\end{equation}\n",
    "The function $\\exp$ deontes matrix exponentiation and is available in Stan as `matrix_exp`."
   ]
  },
  {
   "cell_type": "markdown",
   "metadata": {
    "slideshow": {
     "slide_type": "subslide"
    }
   },
   "source": [
    "Implement the hypoexponential distribution in the `functions` block of a Stan model\n",
    "\n",
    "```cpp\n",
    "functions {\n",
    "    hypoexponential_lpdf(real t, vector a) {\n",
    "        // your code goes here...\n",
    "    }\n",
    "}\n",
    "```\n",
    "Define a positive parameter `t` in the parameters block, and give `t` a hypoexponential distribution in the `model` block. \n",
    "In the `generated quantities` block, generate hypoexponential random numbers `x` using the fact that $X$ is the sum of $n$ exponential RVs. Check that the histograms of `t` and `x` are very similar."
   ]
  },
  {
   "cell_type": "markdown",
   "metadata": {
    "slideshow": {
     "slide_type": "slide"
    }
   },
   "source": [
    "## Quirks\n",
    "\n",
    "**The user is responsible for specifying valid parameter domains**\n",
    "\n",
    "* Make sure the model is well defined by specifying valid parameter domains (using `<lower=a, upper=b>` syntax)\n",
    "* For instance, if $x \\sim {\\rm Beta}(\\alpha, \\beta)$, then we should make sure that $x\\in [0,1]$\n",
    "* Mistakes will show up as "
   ]
  },
  {
   "cell_type": "code",
   "execution_count": null,
   "metadata": {},
   "outputs": [],
   "source": [
    "util.show_stan_model(\"../stan-models/invalid_domain.stan\")"
   ]
  },
  {
   "cell_type": "code",
   "execution_count": null,
   "metadata": {
    "slideshow": {
     "slide_type": "subslide"
    }
   },
   "outputs": [],
   "source": [
    "sm = cmdstanpy.CmdStanModel(stan_file=\"../stan-models/invalid_domain.stan\")\n",
    "sam = sm.sample(chains=1, output_dir=\"../stan-cache/\")"
   ]
  },
  {
   "cell_type": "markdown",
   "metadata": {},
   "source": [
    "**content of `invalid_domain-TIMESTAMP-1-stderr.txt`**\n",
    "```\n",
    "Informational Message: The current Metropolis proposal is about to be rejected because of the following issue:\n",
    "Exception: beta_lpdf: Random variable is -1.0463, but must be in the interval [0, 1] (in '/home/chris/Projects/StanWorkshop/stan-models/invalid_domain.stan', line 6, column 4 to column 23)\n",
    "If this warning occurs sporadically, such as for highly constrained variable types like covariance matrices, then the sampler is fine,\n",
    "but if this warning occurs often then your model may be either severely ill-conditioned or misspecified.\n",
    "\n",
    "```"
   ]
  },
  {
   "cell_type": "code",
   "execution_count": null,
   "metadata": {
    "slideshow": {
     "slide_type": "subslide"
    }
   },
   "outputs": [],
   "source": [
    "util.show_stan_model(\"../stan-models/valid_domain.stan\")"
   ]
  },
  {
   "cell_type": "markdown",
   "metadata": {
    "slideshow": {
     "slide_type": "slide"
    }
   },
   "source": [
    "## Quirks\n",
    "\n",
    "**Jacobian corrections**\n",
    "\n",
    "Let's compile the following Stan model"
   ]
  },
  {
   "cell_type": "code",
   "execution_count": null,
   "metadata": {},
   "outputs": [],
   "source": [
    "util.show_stan_model(\"../stan-models/no_jac_correction.stan\")"
   ]
  },
  {
   "cell_type": "code",
   "execution_count": null,
   "metadata": {
    "slideshow": {
     "slide_type": "subslide"
    }
   },
   "outputs": [],
   "source": [
    "## compile and sample\n",
    "sm = cmdstanpy.CmdStanModel(stan_file=\"../stan-models/no_jac_correction.stan\")\n",
    "sam = sm.sample(chains=1)"
   ]
  },
  {
   "cell_type": "code",
   "execution_count": null,
   "metadata": {
    "slideshow": {
     "slide_type": "skip"
    }
   },
   "outputs": [],
   "source": [
    "def plot_ecdf(ax, xs, **kwargs):\n",
    "    ys = sorted(xs)\n",
    "    fs = np.linspace(0, 1, len(ys))\n",
    "    ax.step(ys, fs, where='post', **kwargs)"
   ]
  },
  {
   "cell_type": "code",
   "execution_count": null,
   "metadata": {},
   "outputs": [],
   "source": [
    "fig, ax = plt.subplots(1, 1, figsize=(4,3))\n",
    "\n",
    "plot_ecdf(ax, sam.stan_variable(\"theta1\"), label=\"$\\\\theta_1$\")\n",
    "plot_ecdf(ax, sam.stan_variable(\"theta2\"), label=\"$\\\\theta_2$\")\n",
    "ax.set_xscale('log'); ax.set_ylabel(\"$P(\\\\theta > x)$\"); ax.set_xlabel(\"x\")\n",
    "ax.legend(); pass"
   ]
  },
  {
   "cell_type": "markdown",
   "metadata": {
    "slideshow": {
     "slide_type": "subslide"
    }
   },
   "source": [
    "**Solution:** correct for transformation using the log of the Jacobian of the parameter transformation"
   ]
  },
  {
   "cell_type": "code",
   "execution_count": null,
   "metadata": {
    "slideshow": {
     "slide_type": "-"
    }
   },
   "outputs": [],
   "source": [
    "util.show_stan_model(\"../stan-models/jac_correction.stan\")"
   ]
  },
  {
   "cell_type": "code",
   "execution_count": null,
   "metadata": {
    "slideshow": {
     "slide_type": "subslide"
    }
   },
   "outputs": [],
   "source": [
    "## compile and sample\n",
    "sm = cmdstanpy.CmdStanModel(stan_file=\"../stan-models/jac_correction.stan\")\n",
    "sam = sm.sample(chains=1)\n",
    "\n",
    "fig, ax = plt.subplots(1, 1, figsize=(4,3))\n",
    "\n",
    "plot_ecdf(ax, sam.stan_variable(\"theta1\"), label=\"$\\\\theta_1$\")\n",
    "plot_ecdf(ax, sam.stan_variable(\"theta2\"), label=\"$\\\\theta_2$\")\n",
    "ax.set_xscale('log'); ax.set_ylabel(\"$P(\\\\theta > x)$\"); ax.set_xlabel(\"x\")\n",
    "ax.legend(); pass"
   ]
  },
  {
   "cell_type": "markdown",
   "metadata": {
    "slideshow": {
     "slide_type": "subslide"
    }
   },
   "source": [
    "**How to compute the correction term?**\n",
    "\n",
    "* Suppose $x$ has a prior $\\pi(x)$. The probability of sampling $x$ in the infinitesimal interval $[x, x+dx]$ is \n",
    "\\begin{equation}\n",
    " \\pi(x) dx\n",
    "\\end{equation}\n",
    "* Let $y = f(x)$ for some transformation function $f$, By specifying a prior $\\pi$ for $y$, we day that the probability of sampling $y$ in the interval $[y, d+dy]$ is \n",
    "\\begin{equation}\n",
    " \\pi(y)dy\n",
    "\\end{equation}\n",
    "* Stan only knows how to sample $x$ and so we have to tell Stan the density of $x$\n",
    "\\begin{equation}\n",
    " \\pi(y) dy = \\pi(f(x)) df(x) = \\pi(f(x)) \\frac{\\partial f}{\\partial x}(x) dx\n",
    "\\end{equation}\n",
    "* Stan works on log scale, so the log-prior for $x$ is then\n",
    "\\begin{equation}\n",
    " \\log(\\pi(f(x)) + \\log\\left|\\frac{\\partial f}{\\partial x}(x)\\right|\n",
    "\\end{equation}\n",
    "* Second term has to be added to `target` manually"
   ]
  },
  {
   "cell_type": "markdown",
   "metadata": {
    "slideshow": {
     "slide_type": "subslide"
    }
   },
   "source": [
    "**Example 1:**\n",
    "* $f(x) = \\log(x)$ has Jacobian $\\frac{\\partial f}{\\partial x} = 1/x$.\n",
    "* Correction term is\n",
    "\\begin{equation}\n",
    " \\log\\left| \\frac{\\partial f}{\\partial x} \\right| = \\log(1/x) = -\\log(x)\n",
    "\\end{equation}\n",
    "* Jacobian correction in Stan: `target += -log(x);`"
   ]
  },
  {
   "cell_type": "markdown",
   "metadata": {
    "slideshow": {
     "slide_type": "subslide"
    }
   },
   "source": [
    "**Example 2:** Suppose we have a model with states $A, B, C$ \n",
    "\n",
    "\\begin{equation}\n",
    "A \\xrightarrow{x} B\\,,\\quad A \\xrightarrow{y} C \n",
    "\\end{equation}\n",
    "\n",
    "and we have some prior information about the probability $x / (x+y)$ of how many individuals end up in state $B$, and the average time $1/(x+y)$ to exit state $A$. Hence, we have priors \n",
    "\n",
    "\\begin{equation}\n",
    " u = \\frac{x}{x+y} \\sim \\mathcal{D}_1\\,, \\quad\n",
    " v = \\frac{1}{x+y} \\sim \\mathcal{D}_2\n",
    "\\end{equation}\n",
    "\n",
    "* Compute the Jacobian of the transformation $(x, y) \\mapsto (u,v)$\n",
    "\\begin{equation}\n",
    "J = \\frac{\\partial(u,v)}{\\partial(x,y)} = \\frac{1}{(x+y)^2}\n",
    "\\left(\\begin{array}{cc}\n",
    "y & -x \\\\ -1 & -1\n",
    "\\end{array}\\right)\n",
    "\\end{equation}\n",
    "* Correction term is given by \n",
    "\\begin{equation}\n",
    "\\log|\\det(J)| = \\log|-(x+y)^{-3}| = -3\\log(x+y)\n",
    "\\end{equation}\n"
   ]
  },
  {
   "cell_type": "markdown",
   "metadata": {
    "slideshow": {
     "slide_type": "slide"
    }
   },
   "source": [
    "## Quirks\n",
    "\n",
    "**HMC does not allow estimation of discrete parameters**\n",
    "\n",
    "* Only **real** parameters (vectors, matrices) can be declared in the `parameters` block.\n",
    "* Workaround: \"integrate out\" discrete variables $x \\in \\{0,1,2,3,\\dots,n\\}$. Define a simplex $p \\in \\mathbb{R}^n$ with $\\mathbb{P}[x = i] = p_i$.\n",
    "* Only works with finite domains."
   ]
  },
  {
   "cell_type": "markdown",
   "metadata": {
    "slideshow": {
     "slide_type": "slide"
    }
   },
   "source": [
    "## Quirks\n",
    "\n",
    "**Ragged data structures**\n",
    "\n",
    "Suppose we have data \n",
    "\\begin{equation}\n",
    "    x_1 = (1,2,4,2,1) \\quad\n",
    "    x_2 = (1,1,5) \\quad\n",
    "    x_3 = (6,9,1,3) \\quad\n",
    "    x_4 = (2,7)    \n",
    "\\end{equation}\n",
    "In python, R etc, we can define an array"
   ]
  },
  {
   "cell_type": "code",
   "execution_count": null,
   "metadata": {},
   "outputs": [],
   "source": [
    "X = [[1,2,4,2,1], [1,1,5], [6,9,1,3], [2,7]]"
   ]
  },
  {
   "cell_type": "markdown",
   "metadata": {},
   "source": [
    "But in Stan, arrays have to be **rectangular**. Two workarounds:\n",
    "\n",
    "1. padding\n",
    "2. concatenation"
   ]
  },
  {
   "cell_type": "markdown",
   "metadata": {
    "slideshow": {
     "slide_type": "subslide"
    }
   },
   "source": [
    "**Padding**\n",
    "\n",
    "\\begin{equation}\n",
    " X = \\left(\n",
    "  \\begin{array}{ccccc}\n",
    "   1 & 2 & 4 & 2 & 1 \\\\\n",
    "   1 & 1 & 5 & 0 & 0 \\\\\n",
    "   6 & 9 & 1 & 3 & 0 \\\\\n",
    "   2 & 7 & 0 & 0 & 0 \n",
    "  \\end{array}\n",
    " \\right)\\,,\n",
    " \\quad M = (5, 3, 4, 2)\n",
    "\\end{equation}"
   ]
  },
  {
   "cell_type": "code",
   "execution_count": null,
   "metadata": {},
   "outputs": [],
   "source": [
    "util.show_stan_model(\"../stan-models/ragged_padding.stan\")"
   ]
  },
  {
   "cell_type": "markdown",
   "metadata": {
    "slideshow": {
     "slide_type": "subslide"
    }
   },
   "source": [
    "**Concatenation**\n",
    "\n",
    "\\begin{equation}\n",
    "    X = (1, 2, 4, 2, 1, 1, 1, 5, 6, 9, 1, 3, 2)\\,, \\quad M = (5,3,4,1)\n",
    "\\end{equation}"
   ]
  },
  {
   "cell_type": "code",
   "execution_count": null,
   "metadata": {},
   "outputs": [],
   "source": [
    "util.show_stan_model(\"../stan-models/ragged_concatenation.stan\")"
   ]
  },
  {
   "cell_type": "markdown",
   "metadata": {
    "slideshow": {
     "slide_type": "slide"
    }
   },
   "source": [
    "## Quirks\n",
    "\n",
    "**No declaration after assignment**\n",
    " \n",
    "The Stan compiler (stanc) does not allow any seclarations after an assignment in the same lexical block (`{ ... }`)\n",
    "Examples:\n",
    "```cpp\n",
    "model {\n",
    "    real x;\n",
    "    x = 10;\n",
    "    int y; // ERROR!!!\n",
    "}\n",
    "```\n",
    "Exception to this rule is a declaration-assignment statement\n",
    "```cpp\n",
    "real x = 10; // declaration-assignment counts as declaration\n",
    "int y; // OK!\n",
    "```\n",
    "Declarations are allowed in new blocks \n",
    "```cpp\n",
    "real x;\n",
    "x = 10;\n",
    "{ // we can declare variables in the new scope\n",
    "    int y = 3; // OK\n",
    "} // y is no longer in scope\n",
    "x *= y; // ERROR!!!\n",
    "```"
   ]
  },
  {
   "cell_type": "markdown",
   "metadata": {
    "slideshow": {
     "slide_type": "slide"
    }
   },
   "source": [
    "## Further reading\n",
    "\n",
    "**[Stan user guide](https://mc-stan.org/docs/2_27/stan-users-guide-2_27.pdf)** (399 pages) Lots of examples\n",
    "\n",
    "**[Stan language reference manual](https://mc-stan.org/docs/2_27/reference-manual-2_27.pdf)** (190 pages) detailed language rules\n",
    "\n",
    "**[Stan language functions reference](https://mc-stan.org/docs/2_27/functions-reference-2_27.pdf)** (207 pages) documentation of all built-in functions"
   ]
  },
  {
   "cell_type": "markdown",
   "metadata": {},
   "source": [
    "## Exercises\n",
    "\n",
    "1. An inverse gamma distributed random variable $X$ has the proporty that $1/X \\sim {\\rm Gamma}(\\alpha, \\beta)$. Suppose your Stan model has the sampling statement `1/X ~ gamma(alpha, beta);` what is the Jacobian correction term required?\n",
    "\n",
    "2. Look in the folder `stan-models` for the file `circular_density.stan`. This model was used in the Introduction to sample from the \"moon-shaped\" distribution. Identify the Jacobion correction term and show that this is indeed the right correction."
   ]
  }
 ],
 "metadata": {
  "celltoolbar": "Slideshow",
  "kernelspec": {
   "display_name": "Python 3",
   "language": "python",
   "name": "python3"
  },
  "language_info": {
   "codemirror_mode": {
    "name": "ipython",
    "version": 3
   },
   "file_extension": ".py",
   "mimetype": "text/x-python",
   "name": "python",
   "nbconvert_exporter": "python",
   "pygments_lexer": "ipython3",
   "version": "3.8.10"
  }
 },
 "nbformat": 4,
 "nbformat_minor": 4
}
