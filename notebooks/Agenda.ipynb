{
 "cells": [
  {
   "cell_type": "markdown",
   "metadata": {
    "slideshow": {
     "slide_type": "slide"
    }
   },
   "source": [
    "# Stan for Immunobiology and Infection\n",
    "\n",
    "### August 3 and 5, 2021"
   ]
  },
  {
   "cell_type": "markdown",
   "metadata": {
    "slideshow": {
     "slide_type": "slide"
    }
   },
   "source": [
    "# Agenda\n",
    "\n",
    "### Tuesday\n",
    "\n",
    "* **[Introduction](Introduction.ipynb)** Some preliminaries, a look inside the black box\n",
    "* **[The Stan Programming Language](StanProgLang.ipynb)** Components of a Stan model, Syntax\n",
    "* **[Some Simple Examples](SimpleModels.ipynb)** Regression, Mixture models\n",
    "\n",
    "### Thursday\n",
    "\n",
    "* **[Exercises](Exercises.ipynb)** Answers to the exercises\n",
    "* **[Some Simple Examples](SimpleModels.ipynb)** Censoring\n",
    "* **[The Stan Programming Language](StanProgLang.ipynb)** Quirks\n",
    "* **R** Using Stan in R, model comparison\n",
    "* **[Advanced Stan Models](AdvancedModels.ipynb)** ODE models, multi-threading"
   ]
  }
 ],
 "metadata": {
  "celltoolbar": "Slideshow",
  "kernelspec": {
   "display_name": "Python 3",
   "language": "python",
   "name": "python3"
  },
  "language_info": {
   "codemirror_mode": {
    "name": "ipython",
    "version": 3
   },
   "file_extension": ".py",
   "mimetype": "text/x-python",
   "name": "python",
   "nbconvert_exporter": "python",
   "pygments_lexer": "ipython3",
   "version": "3.8.10"
  }
 },
 "nbformat": 4,
 "nbformat_minor": 4
}
