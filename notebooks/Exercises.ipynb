{
 "cells": [
  {
   "cell_type": "code",
   "execution_count": null,
   "metadata": {
    "slideshow": {
     "slide_type": "skip"
    }
   },
   "outputs": [],
   "source": [
    "import matplotlib.pyplot as plt\n",
    "import scipy.stats as sts\n",
    "import numpy as np\n",
    "import cmdstanpy ## import stan interface for Python\n",
    "from scipy.integrate import solve_ivp\n",
    "from matplotlib.gridspec import GridSpec\n",
    "import os\n",
    "\n",
    "import sys\n",
    "sys.path.append(\"..\")\n",
    "\n",
    "import stancourse.utilities as util\n",
    "\n",
    "if os.name == \"nt\": ## adds compiler to path in Windows\n",
    "    cmdstanpy.utils.cxx_toolchain_path() "
   ]
  },
  {
   "cell_type": "markdown",
   "metadata": {
    "slideshow": {
     "slide_type": "slide"
    }
   },
   "source": [
    "# Solutions to exercises"
   ]
  },
  {
   "cell_type": "markdown",
   "metadata": {
    "slideshow": {
     "slide_type": "slide"
    }
   },
   "source": [
    "## Exercise 1: User-defined distribution\n",
    "\n",
    "Let $E_1, E_2, \\dots, E_n$ be independent, exponentially distributed random variables with rates $a_1, a_2,\\dots, a_n$ respectively. The sum $X = E_1 + E_2 + \\cdots + E_n$ has a so-called *hypoexponential* distribution. A special case is the Erlang distribution, in which case $a_1 = a_2 = \\cdots = a_n$. Stan does not provide the hypoexponential distribution, and so we have to implement this ourselves. On [wikipedia](https://en.wikipedia.org/wiki/Hypoexponential_distribution), we find that the PDF of $X$ is given by \n",
    "\n",
    "\\begin{equation}\n",
    " f_X(t) = - \\alpha \\exp(t Q) Q 1\n",
    "\\end{equation}\n",
    "where $\\alpha = (1, 0, 0, \\dots, 0) \\in \\mathbb{R}^n$ is a row vector, and $1$ is a vector of $n$ ones $(1, 1, \\dots, 1)^T \\in \\mathbb{R}^n$. The matrix $Q$ is given by\n",
    "\\begin{equation}\n",
    " Q = \\left(\\begin{array}{ccccc}\n",
    " -a_1 & a_1 & 0 & \\cdots & 0\\\\\n",
    " 0 & -a_2 & a_2 & \\cdots & 0 \\\\\n",
    " \\vdots & \\ddots & \\ddots & \\ddots & \\vdots \\\\\n",
    " 0 & \\cdots & 0 & -a_{n-1} & a_{n-1} \\\\\n",
    " 0 & \\cdots & 0 & 0 & -a_n\n",
    " \\end{array}\\right)\n",
    "\\end{equation}\n",
    "The function $\\exp$ denotes matrix exponentiation and is available in Stan as `matrix_exp`."
   ]
  },
  {
   "cell_type": "code",
   "execution_count": null,
   "metadata": {
    "slideshow": {
     "slide_type": "subslide"
    }
   },
   "outputs": [],
   "source": [
    "util.show_stan_model(\"../stan-models/hypoexp.stan\")"
   ]
  },
  {
   "cell_type": "code",
   "execution_count": null,
   "metadata": {
    "slideshow": {
     "slide_type": "subslide"
    }
   },
   "outputs": [],
   "source": [
    "sm = cmdstanpy.CmdStanModel(stan_file=\"../stan-models/hypoexp.stan\")\n",
    "data_dict = {\n",
    "    \"n\" : 4,\n",
    "    \"a\" : [0.2,1,2.5,3.1],\n",
    "}\n",
    "sam = sm.sample(chains=1, iter_sampling=10000, data=data_dict)\n",
    "\n",
    "fig, ax = plt.subplots(1, 1, figsize=(10,3))\n",
    "ts = sam.stan_variable(\"t\")\n",
    "xs = sam.stan_variable(\"x\")\n",
    "bins = ax.hist([ts, xs], bins=50, label=[\"t\", \"x\"], density=True)\n",
    "ax.legend(); ax.set_ylabel(\"density\")"
   ]
  },
  {
   "cell_type": "markdown",
   "metadata": {
    "slideshow": {
     "slide_type": "slide"
    }
   },
   "source": [
    "## Exercise 2: Classification in a mixture model\n",
    "\n",
    "Example application: seroprevalence data\n",
    "\n",
    "* $X_1, X_2, \\dots, X_N$ (properly transformed) antibody titers\n",
    "* With probability $p$, subject $i$ is \"positive\", and \"negative\" otherwise. \n",
    "* postive and negative titers have normal distribution with means $\\mu_1 < \\mu_2$ and standard deviations $\\sigma_1$ and $\\sigma_2$. \n",
    "\n",
    "\\begin{equation}\n",
    "    X_i \\sim \\left\\{\\begin{array}{ll}\n",
    "        \\mathcal{N}(\\mu_1, \\sigma_1) & \\mbox{if $i$ negative} \\\\\n",
    "        \\mathcal{N}(\\mu_2, \\sigma_2) & \\mbox{if $i$ positive}\n",
    "    \\end{array}\\right.\n",
    "\\end{equation}\n",
    "\n",
    "* We don't know the status of each individual, but only the titer $X_i$\n",
    "\n",
    "**Classification of status**\n",
    "Let $I_i \\in \\{ pos, neg \\}$ denote the status of subject $i$. Bayes rule says\n",
    "\\begin{equation}\n",
    "    \\mathbb{P}(I_i = pos | X_i) = \\frac{p L(X_i | pos)}{p L(X_i | pos) + (1-p) L(X_i | neg)}\n",
    "\\end{equation}\n",
    "Note that $I_i$ is the \"parameter\", $L(X_i | pos)$ is the PDF of $\\mathcal{N}(\\mu_2, s\\sigma_2)$,\n",
    "and the prior of $s_i$ is given by\n",
    "\\begin{equation}\n",
    "\\pi(pos) = p\\,,\\quad \\pi(neg) = 1-p\n",
    "\\end{equation}"
   ]
  },
  {
   "cell_type": "code",
   "execution_count": null,
   "metadata": {
    "slideshow": {
     "slide_type": "subslide"
    }
   },
   "outputs": [],
   "source": [
    "util.show_stan_model(\"../stan-models/mixture_classification.stan\")"
   ]
  },
  {
   "cell_type": "code",
   "execution_count": null,
   "metadata": {
    "slideshow": {
     "slide_type": "skip"
    }
   },
   "outputs": [],
   "source": [
    "p = 0.3\n",
    "mu1, mu2 = -1, 2\n",
    "sigma1, sigma2 = 0.5, 1.0\n",
    "\n",
    "N = 1000\n",
    "I = sts.bernoulli.rvs(p, size=N)\n",
    "X = [sts.norm.rvs(loc=mu1, scale=sigma1) if i == 0 \n",
    "     else sts.norm.rvs(loc=mu2, scale=sigma2) for i in I]"
   ]
  },
  {
   "cell_type": "code",
   "execution_count": null,
   "metadata": {
    "slideshow": {
     "slide_type": "subslide"
    }
   },
   "outputs": [],
   "source": [
    "sm = cmdstanpy.CmdStanModel(stan_file=\"../stan-models/mixture_classification.stan\")\n",
    "data_dict = {\"N\" : N, \"X\" : X}\n",
    "sam = sm.sample(data=data_dict, chains=1)"
   ]
  },
  {
   "cell_type": "code",
   "execution_count": null,
   "metadata": {
    "slideshow": {
     "slide_type": "skip"
    }
   },
   "outputs": [],
   "source": [
    "fig, axs = plt.subplots(2, 1, figsize=(7,4))\n",
    "\n",
    "axs[0].hist(X, 50, density=True, label=\"data\")\n",
    "axs[0].set_xlabel(\"titer $X$\")\n",
    "axs[0].set_ylabel(\"density\")\n",
    "\n",
    "mu_est = sam.stan_variable(\"mu\")\n",
    "sigma_est = sam.stan_variable(\"sigma\")\n",
    "p_est = sam.stan_variable(\"p\")\n",
    "xs = np.linspace(np.min(X), np.max(X), 1000)\n",
    "y1s = sts.norm.pdf(xs, loc=np.mean(mu_est[:,0]), scale=np.mean(sigma_est[:,0]))\n",
    "y2s = sts.norm.pdf(xs, loc=np.mean(mu_est[:,1]), scale=np.mean(sigma_est[:,1]))\n",
    "\n",
    "p_mean = np.mean(p_est)\n",
    "axs[0].plot(xs, (1-p_mean) * y1s, linewidth=3, label=\"negative\")\n",
    "axs[0].plot(xs, p_mean * y2s, linewidth=3, label=\"positive\")\n",
    "\n",
    "axs[0].legend()\n",
    "\n",
    "ppos = np.mean(sam.stan_variable(\"ppos\"), axis=0)\n",
    "\n",
    "axs[1].scatter(ppos, I, marker='|', color='k')\n",
    "axs[1].set_xlim(-0.05, 1.05)\n",
    "axs[1].set_ylim(-0.1, 1.1)\n",
    "\n",
    "axs[1].set_yticks([0,1])\n",
    "axs[1].set_yticklabels([\"neg\", \"pos\"])\n",
    "axs[1].set_xlabel(\"classification\")"
   ]
  },
  {
   "cell_type": "code",
   "execution_count": null,
   "metadata": {},
   "outputs": [],
   "source": [
    "fig ## data, fit and classification"
   ]
  }
 ],
 "metadata": {
  "celltoolbar": "Slideshow",
  "kernelspec": {
   "display_name": "Python 3",
   "language": "python",
   "name": "python3"
  },
  "language_info": {
   "codemirror_mode": {
    "name": "ipython",
    "version": 3
   },
   "file_extension": ".py",
   "mimetype": "text/x-python",
   "name": "python",
   "nbconvert_exporter": "python",
   "pygments_lexer": "ipython3",
   "version": "3.8.10"
  }
 },
 "nbformat": 4,
 "nbformat_minor": 4
}
