{
 "cells": [
  {
   "cell_type": "code",
   "execution_count": null,
   "metadata": {
    "slideshow": {
     "slide_type": "skip"
    }
   },
   "outputs": [],
   "source": [
    "import matplotlib.pyplot as plt\n",
    "import scipy.stats as sts\n",
    "import numpy as np\n",
    "import cmdstanpy ## import stan interface for Python\n",
    "import os\n",
    "import datetime\n",
    "from matplotlib.gridspec import GridSpec\n",
    "\n",
    "import sys\n",
    "sys.path.append(\"..\")\n",
    "\n",
    "import stancourse.utilities as util\n",
    "from stancourse import plots\n",
    "\n",
    "if os.name == \"nt\": ## adds compiler to path in Windows\n",
    "    cmdstanpy.utils.cxx_toolchain_path() "
   ]
  },
  {
   "cell_type": "markdown",
   "metadata": {
    "slideshow": {
     "slide_type": "slide"
    }
   },
   "source": [
    "# Some \"Simple\" Stan Models\n",
    "\n",
    "* Linear regression\n",
    "* Logistic regression\n",
    "* Mixture model\n",
    "* Censored data"
   ]
  },
  {
   "cell_type": "markdown",
   "metadata": {
    "slideshow": {
     "slide_type": "slide"
    }
   },
   "source": [
    "## Linear regression\n",
    "\\begin{equation}\n",
    "Y \\sim a X + b + \\mathcal{N}(0, \\sigma)\n",
    "\\end{equation}"
   ]
  },
  {
   "cell_type": "code",
   "execution_count": null,
   "metadata": {
    "slideshow": {
     "slide_type": "-"
    }
   },
   "outputs": [],
   "source": [
    "## generate some random synthetic data\n",
    "N = 100\n",
    "X = sts.norm.rvs(loc=0, scale=1, size=N)\n",
    "a_gt, b_gt = 0.1, 0.2\n",
    "sigma_gt = 0.35\n",
    "Y = a_gt * X + sts.norm.rvs(loc=b_gt, scale=sigma_gt, size=N)\n",
    "\n",
    "## make figure of the data (X,Y)\n",
    "fig, ax = plt.subplots(1, 1, figsize=(5,3))\n",
    "ax.scatter(X, Y, s=5, color='k')\n",
    "ax.set_xlabel(\"X\"); ax.set_ylabel(\"Y\");"
   ]
  },
  {
   "cell_type": "markdown",
   "metadata": {
    "slideshow": {
     "slide_type": "subslide"
    }
   },
   "source": [
    "**Stan model**"
   ]
  },
  {
   "cell_type": "code",
   "execution_count": null,
   "metadata": {
    "slideshow": {
     "slide_type": "-"
    }
   },
   "outputs": [],
   "source": [
    "util.show_stan_model(\"../stan-models/linreg_minimal.stan\")"
   ]
  },
  {
   "cell_type": "markdown",
   "metadata": {
    "slideshow": {
     "slide_type": "subslide"
    }
   },
   "source": [
    "**Stan model with `generated quantities` block**"
   ]
  },
  {
   "cell_type": "code",
   "execution_count": null,
   "metadata": {
    "slideshow": {
     "slide_type": "-"
    }
   },
   "outputs": [],
   "source": [
    "util.show_stan_model(\"../stan-models/linreg.stan\")"
   ]
  },
  {
   "cell_type": "code",
   "execution_count": null,
   "metadata": {
    "slideshow": {
     "slide_type": "subslide"
    }
   },
   "outputs": [],
   "source": [
    "## compile stan model\n",
    "sm = cmdstanpy.CmdStanModel(stan_file=\"../stan-models/linreg.stan\")\n",
    "\n",
    "## prepare data for stan\n",
    "Nsim = 250; Xsim = np.linspace(np.min(X), np.max(X), Nsim)\n",
    "data_dict = {\n",
    "    \"N\" : N,\n",
    "    \"X\" : X,\n",
    "    \"Y\" : Y,\n",
    "    \"Nsim\" : Nsim,\n",
    "    \"Xsim\" : Xsim\n",
    "}\n",
    "\n",
    "## sample from posterior\n",
    "sam = sm.sample(\n",
    "    chains=4, ## number of independent parallel chains\n",
    "    iter_warmup=1000, ## warmup iterations (adaptation of algo-parameters)\n",
    "    iter_sampling= 2000, ## number of samples\n",
    "    data=data_dict ## and of course the data\n",
    ")"
   ]
  },
  {
   "cell_type": "markdown",
   "metadata": {
    "slideshow": {
     "slide_type": "subslide"
    }
   },
   "source": [
    "**Use the `summary()` method to get some summary statistics of the samples**"
   ]
  },
  {
   "cell_type": "code",
   "execution_count": null,
   "metadata": {
    "slideshow": {
     "slide_type": "-"
    }
   },
   "outputs": [],
   "source": [
    "df = sam.summary()\n",
    "df.loc[[\"a\", \"b\", \"sigma\", \"lp__\"]] ## show only subset of output..."
   ]
  },
  {
   "cell_type": "markdown",
   "metadata": {
    "slideshow": {
     "slide_type": "subslide"
    }
   },
   "source": [
    "**use the `diagnose()` method to diagnose potential problems**\n",
    "\n",
    "We will discuss what this means in the \"Debugging\" session"
   ]
  },
  {
   "cell_type": "code",
   "execution_count": null,
   "metadata": {
    "slideshow": {
     "slide_type": "-"
    }
   },
   "outputs": [],
   "source": [
    "res = sam.diagnose()"
   ]
  },
  {
   "cell_type": "code",
   "execution_count": null,
   "metadata": {
    "slideshow": {
     "slide_type": "subslide"
    }
   },
   "outputs": [],
   "source": [
    "## extract parameter \"traces\"\n",
    "\n",
    "Yhat = sam.stan_variable(\"Yhat\")\n",
    "Ysim = sam.stan_variable(\"Ysim\")\n",
    "a_est = sam.stan_variable(\"a\")\n",
    "\n",
    "print(\"shape of array Yhat:\", Yhat.shape)\n",
    "\n",
    "## compute some statistics\n",
    "mYhat = np.mean(Yhat, axis=0)\n",
    "lYhat, uYhat = np.percentile(Yhat, axis=0, q=[2.5, 97.5])\n",
    "lYsim, uYsim = np.percentile(Ysim, axis=0, q=[2.5, 97.5])\n",
    "\n",
    "Pr = len([a for a in a_est if a < 0]) / len(a_est)\n",
    "print(\"fraction of samples a < 0:\", Pr)\n",
    "## make figure..."
   ]
  },
  {
   "cell_type": "code",
   "execution_count": null,
   "metadata": {
    "slideshow": {
     "slide_type": "skip"
    }
   },
   "outputs": [],
   "source": [
    "fig, (ax1, ax2) = plt.subplots(1, 2, figsize=(14,3))\n",
    "ax1.scatter(X, Y, s=5, label=\"data\", color='k', zorder=4)\n",
    "\n",
    "ax1.plot(Xsim, mYhat, color=plots.bl1, zorder=3, label='reg. line')\n",
    "ax1.fill_between(Xsim, lYhat, uYhat, color=plots.bl2, zorder=2, label=\"95%CrI\")\n",
    "ax1.fill_between(Xsim, lYsim, uYsim, color=plots.bl3, label=\"post. pred.\")\n",
    "\n",
    "ax1.set_xlabel(\"X\")\n",
    "ax1.set_ylabel(\"Y\")\n",
    "ax1.legend()\n",
    "\n",
    "plots.density(ax2, a_est, color=plots.bl2, label=\"posterior density $a$\")\n",
    "ax2.axvline(x=a_gt, color='k', label='ground truth $a$')\n",
    "ax2.axvline(x=0, color='r', label=\"a = 0\")\n",
    "ax2.set_xlabel(\"$a$\")\n",
    "ax2.set_ylabel(\"$density$\")\n",
    "ax2.legend()"
   ]
  },
  {
   "cell_type": "code",
   "execution_count": null,
   "metadata": {
    "slideshow": {
     "slide_type": "-"
    }
   },
   "outputs": [],
   "source": [
    "fig ## show regression and posterior density plot"
   ]
  },
  {
   "cell_type": "markdown",
   "metadata": {
    "slideshow": {
     "slide_type": "slide"
    }
   },
   "source": [
    "## Logistic regression\n",
    "**with SARS-CoV-2 variant data**\n",
    "* some sequence data from India (Feb - April 2021)\n",
    "* counts of alpha and delta variant (and other)"
   ]
  },
  {
   "cell_type": "code",
   "execution_count": null,
   "metadata": {},
   "outputs": [],
   "source": [
    "with open(\"../data/india-alpha-delta.tsv\") as f:\n",
    "    for line in f.read().split('\\n')[:4]:\n",
    "        print(line)"
   ]
  },
  {
   "cell_type": "code",
   "execution_count": null,
   "metadata": {
    "slideshow": {
     "slide_type": "skip"
    }
   },
   "outputs": [],
   "source": [
    "with open(\"../data/india-alpha-delta.tsv\") as f:\n",
    "    table = [[int(x) for x in row.split('\\t')] \n",
    "             for row in f.read().split('\\n')[1:] if row !='']\n",
    "    \n",
    "Time = [row[0] for row in table]\n",
    "Counts = [row[1:] for row in table]\n",
    "\n",
    "freqs = np.array([[x / np.sum(row) for x in row] for row in Counts])\n",
    "variants = [\"alpha\", \"delta\", \"other\"]\n",
    "\n",
    "fig, ax = plt.subplots(1, 1, figsize=(7,2))\n",
    "for i in range(3):\n",
    "    ax.plot(Time, freqs[:,i], marker='o', label=variants[i])\n",
    "    \n",
    "date0 = datetime.datetime.strptime(\"01-01-2020\", \"%m-%d-%Y\")\n",
    "\n",
    "xticks = Time[::2]\n",
    "dates = [date0 + datetime.timedelta(days=t) for t in xticks]\n",
    "datestrs = [date.strftime(\"%b %d\") for date in dates]\n",
    "ax.set_xticks(xticks)\n",
    "ax.set_xticklabels(datestrs)\n",
    "ax.set_ylabel(\"frequency\")\n",
    "    \n",
    "ax.legend()"
   ]
  },
  {
   "cell_type": "code",
   "execution_count": null,
   "metadata": {},
   "outputs": [],
   "source": [
    "fig ## show data"
   ]
  },
  {
   "cell_type": "code",
   "execution_count": null,
   "metadata": {
    "slideshow": {
     "slide_type": "subslide"
    }
   },
   "outputs": [],
   "source": [
    "util.show_stan_model(\"../stan-models/sars2-variants.stan\")"
   ]
  },
  {
   "cell_type": "code",
   "execution_count": null,
   "metadata": {
    "slideshow": {
     "slide_type": "subslide"
    }
   },
   "outputs": [],
   "source": [
    "sm = cmdstanpy.CmdStanModel(stan_file=\"../stan-models/sars2-variants.stan\")\n",
    "data_dict = {\n",
    "    \"N\" : len(Time),\n",
    "    \"K\" : 3,\n",
    "    \"Time\" : Time,\n",
    "    \"Counts\" : Counts\n",
    "}\n",
    "sam = sm.sample(chains=1, data=data_dict)"
   ]
  },
  {
   "cell_type": "code",
   "execution_count": null,
   "metadata": {
    "slideshow": {
     "slide_type": "skip"
    }
   },
   "outputs": [],
   "source": [
    "colors = ['tab:blue', 'tab:orange', 'tab:green']\n",
    "\n",
    "fig = plt.figure(figsize=(7,3))\n",
    "\n",
    "gs = GridSpec(1,4)\n",
    "ax = fig.add_subplot(gs[:3])\n",
    "\n",
    "for i in range(3):\n",
    "    ax.scatter(Time, freqs[:,i], marker='o', label=variants[i], color=colors[i])\n",
    "\n",
    "p_hats = sam.stan_variable(\"p_hat\")\n",
    "    \n",
    "p_hat_mean = np.mean(p_hats, axis=0)\n",
    "p_hat_l, p_hat_u = np.percentile(p_hats, axis=0, q=[2.5, 97.5])\n",
    "\n",
    "ax.plot(Time, p_hat_mean)\n",
    "for i in range(3):\n",
    "    ax.fill_between(Time, p_hat_l[:,i], p_hat_u[:,i], color=colors[i], alpha=0.3)\n",
    "    \n",
    "    \n",
    "date0 = datetime.datetime.strptime(\"01-01-2020\", \"%m-%d-%Y\")\n",
    "xticks = Time[::2]\n",
    "dates = [date0 + datetime.timedelta(days=t) for t in xticks]\n",
    "datestrs = [date.strftime(\"%b %d\") for date in dates]\n",
    "ax.set_xticks(xticks)\n",
    "ax.set_xticklabels(datestrs)\n",
    "ax.set_ylabel(\"frequency\")\n",
    "    \n",
    "ax.legend()\n",
    "\n",
    "bx = fig.add_subplot(gs[3])\n",
    "\n",
    "alpha = sam.stan_variable(\"alpha\")\n",
    "bx.violinplot(alpha)\n",
    "\n",
    "bx.set_ylabel(\"selective advantage (per day)\")\n",
    "\n",
    "bx.set_xticks(range(1,4))\n",
    "bx.set_xticklabels(variants)\n",
    "\n",
    "fig.tight_layout()\n"
   ]
  },
  {
   "cell_type": "code",
   "execution_count": null,
   "metadata": {},
   "outputs": [],
   "source": [
    "fig # show fit"
   ]
  },
  {
   "cell_type": "markdown",
   "metadata": {
    "slideshow": {
     "slide_type": "slide"
    }
   },
   "source": [
    "## Mixture model\n",
    "\n",
    "Example application: seroprevalence data\n",
    "\n",
    "* $X_1, X_2, \\dots, X_N$ (properly transformed) antibody titers\n",
    "* With probability $p$, subject $i$ is \"positive\", and \"negative\" otherwise. \n",
    "* postive and negative titers have normal distribution with means $\\mu_1 < \\mu_2$ and standard deviations $\\sigma_1$ and $\\sigma_2$. \n",
    "\n",
    "\\begin{equation}\n",
    "    X_i \\sim \\left\\{\\begin{array}{ll}\n",
    "        \\mathcal{N}(\\mu_1, \\sigma_1) & \\mbox{if $i$ negative} \\\\\n",
    "        \\mathcal{N}(\\mu_2, \\sigma_2) & \\mbox{if $i$ positive}\n",
    "    \\end{array}\\right.\n",
    "\\end{equation}\n",
    "\n",
    "* We don't know the status of each individual, but only the titer $X_i$"
   ]
  },
  {
   "cell_type": "code",
   "execution_count": null,
   "metadata": {
    "slideshow": {
     "slide_type": "skip"
    }
   },
   "outputs": [],
   "source": [
    "p = 0.3\n",
    "mu1, mu2 = -1, 2\n",
    "sigma1, sigma2 = 0.5, 1.0\n",
    "\n",
    "N = 1000\n",
    "I = sts.bernoulli.rvs(p, size=N)\n",
    "X = [sts.norm.rvs(loc=mu1, scale=sigma1) if i == 0 else sts.norm.rvs(loc=mu2, scale=sigma2)\n",
    "     for i in I]\n",
    "\n",
    "fig, ax = plt.subplots(1, 1, figsize=(7,3))\n",
    "\n",
    "ax.hist(X, 50, density=True)\n",
    "ax.set_xlabel(\"titer $X$\")\n",
    "ax.set_ylabel(\"density\")"
   ]
  },
  {
   "cell_type": "code",
   "execution_count": null,
   "metadata": {},
   "outputs": [],
   "source": [
    "fig ## show histogram of the data"
   ]
  },
  {
   "cell_type": "code",
   "execution_count": null,
   "metadata": {
    "slideshow": {
     "slide_type": "subslide"
    }
   },
   "outputs": [],
   "source": [
    "util.show_stan_model(\"../stan-models/mixture_model.stan\")"
   ]
  },
  {
   "cell_type": "code",
   "execution_count": null,
   "metadata": {
    "slideshow": {
     "slide_type": "subslide"
    }
   },
   "outputs": [],
   "source": [
    "sm = cmdstanpy.CmdStanModel(stan_file=\"../stan-models/mixture_model.stan\")\n",
    "\n",
    "data_dict = {\n",
    "    \"N\" : N,\n",
    "    \"X\" : X\n",
    "}\n",
    "\n",
    "sam = sm.sample(data=data_dict, chains=1)\n",
    "\n",
    "sam.summary()"
   ]
  },
  {
   "cell_type": "code",
   "execution_count": null,
   "metadata": {
    "slideshow": {
     "slide_type": "skip"
    }
   },
   "outputs": [],
   "source": [
    "fig, ax = plt.subplots(1, 1, figsize=(7,2))\n",
    "\n",
    "ax.hist(X, 50, density=True, label=\"data\")\n",
    "ax.set_xlabel(\"titer $X$\")\n",
    "ax.set_ylabel(\"density\")\n",
    "\n",
    "mu_est = sam.stan_variable(\"mu\")\n",
    "sigma_est = sam.stan_variable(\"sigma\")\n",
    "p_est = sam.stan_variable(\"p\")\n",
    "xs = np.linspace(np.min(X), np.max(X), 1000)\n",
    "y1s = sts.norm.pdf(xs, loc=np.mean(mu_est[:,0]), scale=np.mean(sigma_est[:,0]))\n",
    "y2s = sts.norm.pdf(xs, loc=np.mean(mu_est[:,1]), scale=np.mean(sigma_est[:,1]))\n",
    "\n",
    "p_mean = np.mean(p_est)\n",
    "ax.plot(xs, (1-p_mean) * y1s, linewidth=3, label=\"negative\")\n",
    "ax.plot(xs, p_mean * y2s, linewidth=3, label=\"positive\")\n",
    "\n",
    "ax.legend()"
   ]
  },
  {
   "cell_type": "code",
   "execution_count": null,
   "metadata": {
    "slideshow": {
     "slide_type": "subslide"
    }
   },
   "outputs": [],
   "source": [
    "fig ## data and fit mixture model"
   ]
  },
  {
   "cell_type": "markdown",
   "metadata": {
    "slideshow": {
     "slide_type": "fragment"
    }
   },
   "source": [
    "## Exercise\n",
    "\n",
    "**classification of subjects in the mixture model**\n",
    "\n",
    "Open the Stan file `mixture_model.stan` in the `stan-models` directory. \n",
    "Add a `generated quantities` block to calculate for each subject the probability `ppos[i]` that $i$ is positive.\n",
    "\n",
    "```cpp\n",
    "// other model blocks...\n",
    "\n",
    "generated quantities {\n",
    "    vector[N] ppos;\n",
    "    \n",
    "    // put your code here\n",
    "}\n",
    "```"
   ]
  },
  {
   "cell_type": "markdown",
   "metadata": {
    "slideshow": {
     "slide_type": "slide"
    }
   },
   "source": [
    "## Censored data\n",
    "**Interval censoring**\n",
    "* Example: HIV-1 cure research: analytic treatment interuption experiments\n",
    "* Measure viral load at discrete time points after antiretroviral treatment interruption (say every week)\n",
    "* *Viral rebound* is defined as the time $T$ that the VL becomes detectable\n",
    "* This time $T$ is *interval censored* as the VL is not observed continuously\n",
    "\n",
    "Simple model for the rebound time: $T \\sim {\\rm Gamma}(\\alpha, \\beta)$"
   ]
  },
  {
   "cell_type": "code",
   "execution_count": null,
   "metadata": {
    "slideshow": {
     "slide_type": "skip"
    }
   },
   "outputs": [],
   "source": [
    "def gen_interval_censored_data(alpha, beta, dtmax):\n",
    "    dtobs = np.random.randint(3, high=dtmax, size=200)\n",
    "    tobs = np.concatenate([[0],np.cumsum(dtobs)])\n",
    "    T = sts.gamma.rvs(alpha, scale=1/beta)\n",
    "    for t1, t2 in zip(tobs[:-1], tobs[1:]):\n",
    "        if t1 < T and t2 >= T:\n",
    "            return [t1, t2]\n",
    "                    \n",
    "\n",
    "alpha_gt = 2\n",
    "beta_gt = 1/7\n",
    "dtmax = 14\n",
    "N = 100\n",
    "\n",
    "Ts = [gen_interval_censored_data(alpha_gt, beta_gt, dtmax) for _ in range(N)]\n",
    "\n",
    "Ts.sort()\n",
    "                            \n",
    "fig, ax = plt.subplots(1, 1, figsize=(7,7))\n",
    "\n",
    "for i, T in enumerate(Ts):\n",
    "    label = 'rebound interval' if i == 0 else None\n",
    "    ax.plot(T, [i,i], color='k', label=label)\n",
    "    \n",
    "ax.set_xlabel(\"days post ATI\")\n",
    "ax.set_ylabel(\"participant\")"
   ]
  },
  {
   "cell_type": "code",
   "execution_count": null,
   "metadata": {
    "slideshow": {
     "slide_type": "subslide"
    }
   },
   "outputs": [],
   "source": [
    "fig ## show rebound intervals"
   ]
  },
  {
   "cell_type": "markdown",
   "metadata": {
    "slideshow": {
     "slide_type": "subslide"
    }
   },
   "source": [
    "**What is the likelihood of interval censored data?**\n",
    "\n",
    "The probability that rebound occured in the interval $[L,U]$ is equal to \n",
    "\n",
    "\\begin{equation}\n",
    "P(T \\in [L, U]) = \\int_{L}^U f_T(t) dt\n",
    "\\end{equation}\n",
    "where $f_T$ is the PDF of the Gamma distribution. In Stan, we only have access to\n",
    "```\n",
    "gamma_lpdf\n",
    "gamma_lcdf\n",
    "gamma_lccdf\n",
    "```\n",
    "However, we can write\n",
    "\\begin{equation}\n",
    "P(T \\in [L, U]) = P(T \\in [0, U]) - P(T \\in [0, L])\n",
    "\\end{equation}\n",
    "Hence, the desired probability is the difference between two CDFs. Working on the log-scale in Stan, the log of this difference is\n",
    "```cpp\n",
    "log_diff_exp(\n",
    "    gamma_lcdf(U | alpha, beta), \n",
    "    gamma_lcdf(L | alpha, beta)\n",
    ");\n",
    "```\n"
   ]
  },
  {
   "cell_type": "code",
   "execution_count": null,
   "metadata": {
    "slideshow": {
     "slide_type": "subslide"
    }
   },
   "outputs": [],
   "source": [
    "util.show_stan_model(\"../stan-models/interval_censored.stan\")"
   ]
  },
  {
   "cell_type": "code",
   "execution_count": null,
   "metadata": {
    "slideshow": {
     "slide_type": "subslide"
    }
   },
   "outputs": [],
   "source": [
    "sm = cmdstanpy.CmdStanModel(stan_file=\"../stan-models/interval_censored.stan\")\n",
    "data_dict = {\n",
    "    \"N\" : N,\n",
    "    \"TimesL\" : [int(t[0]) for t in Ts],\n",
    "    \"TimesU\" : [int(t[1]) for t in Ts],\n",
    "}\n",
    "sam = sm.sample(data=data_dict, chains=1)\n",
    "Tsim = sam.stan_variable(\"Tsim\")"
   ]
  },
  {
   "cell_type": "code",
   "execution_count": null,
   "metadata": {
    "slideshow": {
     "slide_type": "skip"
    }
   },
   "outputs": [],
   "source": [
    "fig, (ax, bx) = plt.subplots(2, 1, figsize=(7,7), sharex=True)\n",
    "\n",
    "for i, T in enumerate(Ts):\n",
    "    label = 'rebound interval' if i == 0 else None\n",
    "    ax.plot(T, [i,i], color='k', label=label, linewidth=0.5)\n",
    "    \n",
    "bx.set_xlabel(\"days post ATI\")\n",
    "ax.set_ylabel(\"participant\")\n",
    "\n",
    "plots.density(bx, Tsim, label=\"Tsim\")\n",
    "bx.legend()\n",
    "bx.set_ylabel(\"density\")\n",
    "\n",
    "CrI_alpha = np.percentile(sam.stan_variable(\"alpha\"), q=[2.5, 97.5])\n",
    "CrI_beta = np.percentile(sam.stan_variable(\"beta\"), q=[2.5, 97.5])\n",
    "\n",
    "est_alpha =f\"true alpha: {alpha_gt}, 95% CrI: [{CrI_alpha[0]:0.2f}, {CrI_alpha[1]:0.2f}]\"\n",
    "est_beta = f\"true beta: {beta_gt:0.2f}, 95% CrI: [{CrI_beta[0]:0.2f}, {CrI_beta[1]:0.2f}]\"\n"
   ]
  },
  {
   "cell_type": "code",
   "execution_count": null,
   "metadata": {
    "slideshow": {
     "slide_type": "subslide"
    }
   },
   "outputs": [],
   "source": [
    "print(est_alpha + '\\n' + est_beta)\n",
    "\n",
    "fig ## show data and posterior predictive distribution"
   ]
  },
  {
   "cell_type": "code",
   "execution_count": null,
   "metadata": {},
   "outputs": [],
   "source": []
  }
 ],
 "metadata": {
  "celltoolbar": "Slideshow",
  "kernelspec": {
   "display_name": "Python 3",
   "language": "python",
   "name": "python3"
  },
  "language_info": {
   "codemirror_mode": {
    "name": "ipython",
    "version": 3
   },
   "file_extension": ".py",
   "mimetype": "text/x-python",
   "name": "python",
   "nbconvert_exporter": "python",
   "pygments_lexer": "ipython3",
   "version": "3.8.10"
  }
 },
 "nbformat": 4,
 "nbformat_minor": 4
}
