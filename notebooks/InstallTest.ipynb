{
 "cells": [
  {
   "cell_type": "markdown",
   "metadata": {},
   "source": [
    "# Install and Test\n",
    "\n",
    "Use this notebook to install Stan and test your Stan installation. To execute the code in a cell of a Jupyter notebook, make sure the cell is selected (by clicking on the cell). Then press `shift+Enter`. This will cause the next cell to be selected. Selected cells have a green or blue border. You can edit the content of a cell when the border is green (edit mode). When the border of a cell is blue (command mode), keys on your keybord are shortcuts for certain commands (such as cut and paste, change cell type, etc.). To switch from command mode to edit mode, click on the cell, or press `Enter`\n",
    "\n",
    "## Installing\n",
    "\n",
    "It is possible to execute shell command from notebook cells by starting a line with an exclamation point (!). \n",
    "Install the python package `cmdstanpy` using `pip` or `conda`.\n",
    "If you're using `pip`, you can execute the cell below:"
   ]
  },
  {
   "cell_type": "code",
   "execution_count": null,
   "metadata": {},
   "outputs": [],
   "source": [
    "!pip install cmdstanpy"
   ]
  },
  {
   "cell_type": "markdown",
   "metadata": {},
   "source": [
    "Or run the following cell if you're using anaconda"
   ]
  },
  {
   "cell_type": "code",
   "execution_count": null,
   "metadata": {},
   "outputs": [],
   "source": [
    "!conda install -y -c conda-forge cmdstanpy"
   ]
  },
  {
   "cell_type": "markdown",
   "metadata": {},
   "source": [
    "Now we can import the `cmdstanpy` module in Python."
   ]
  },
  {
   "cell_type": "code",
   "execution_count": null,
   "metadata": {},
   "outputs": [],
   "source": [
    "import cmdstanpy\n",
    "print(\"my cmdstanpy version is:\", cmdstanpy.__version__)"
   ]
  },
  {
   "cell_type": "markdown",
   "metadata": {},
   "source": [
    "Make sure you have the latest version (0.9.76). If you don't have the latest version, you can upgrade with the shell command"
   ]
  },
  {
   "cell_type": "code",
   "execution_count": null,
   "metadata": {},
   "outputs": [],
   "source": [
    "!pip install --upgrade cmdstanpy"
   ]
  },
  {
   "cell_type": "markdown",
   "metadata": {},
   "source": [
    "**On Windows**, it may be neccesary to install a C++ compiler. `cmdstanpy` has a script to do this for you.\n",
    "In fact, this script installs `Rtools40` which is also used by R. So R users might already have this.\n",
    "The first line in the next cell executes the script, the second line makes sure that the compiler is added the Windows PATH."
   ]
  },
  {
   "cell_type": "code",
   "execution_count": null,
   "metadata": {},
   "outputs": [],
   "source": [
    "!python -m cmdstanpy.install_cxx_toolchain\n",
    "cmdstanpy.utils.cxx_toolchain_path()"
   ]
  },
  {
   "cell_type": "markdown",
   "metadata": {},
   "source": [
    "**On Mac**, you might have to install the xcode package, which comes with a C++ compiter. This can be installed with the following command."
   ]
  },
  {
   "cell_type": "code",
   "execution_count": null,
   "metadata": {},
   "outputs": [],
   "source": [
    "!xcode-select --install"
   ]
  },
  {
   "cell_type": "markdown",
   "metadata": {},
   "source": [
    "Now we can use `cmdstanpy` to download and install `cmdstan` automatically. This will take some time..."
   ]
  },
  {
   "cell_type": "code",
   "execution_count": null,
   "metadata": {},
   "outputs": [],
   "source": [
    "cmdstanpy.install_cmdstan()"
   ]
  },
  {
   "cell_type": "markdown",
   "metadata": {},
   "source": [
    "We can find out where `cmdstanpy` installed `cmdstan` on your system, and which version"
   ]
  },
  {
   "cell_type": "code",
   "execution_count": null,
   "metadata": {},
   "outputs": [],
   "source": [
    "cmdstanpy.cmdstan_path()"
   ]
  },
  {
   "cell_type": "markdown",
   "metadata": {},
   "source": [
    "## Testing\n",
    "\n",
    "To test if your installation was succesful, run the following cell. If everything went well,\n",
    "you should see some lines starting with `INFO` indicating the progress cmdstan is making, and then a table with some statistics."
   ]
  },
  {
   "cell_type": "code",
   "execution_count": null,
   "metadata": {},
   "outputs": [],
   "source": [
    "import os\n",
    "\n",
    "stan_file = os.path.join(\"..\", \"stan-models\", \"hello_world.stan\")\n",
    "\n",
    "sm = cmdstanpy.CmdStanModel(stan_file=stan_file)\n",
    "sam = sm.sample()\n",
    "sam.summary()"
   ]
  }
 ],
 "metadata": {
  "kernelspec": {
   "display_name": "Python 3",
   "language": "python",
   "name": "python3"
  },
  "language_info": {
   "codemirror_mode": {
    "name": "ipython",
    "version": 3
   },
   "file_extension": ".py",
   "mimetype": "text/x-python",
   "name": "python",
   "nbconvert_exporter": "python",
   "pygments_lexer": "ipython3",
   "version": "3.8.10"
  }
 },
 "nbformat": 4,
 "nbformat_minor": 4
}
